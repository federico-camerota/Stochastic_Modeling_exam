{
 "cells": [
  {
   "cell_type": "markdown",
   "metadata": {},
   "source": [
    "# Time series based investor"
   ]
  },
  {
   "cell_type": "markdown",
   "metadata": {},
   "source": [
    "## Utility functions"
   ]
  },
  {
   "cell_type": "code",
   "execution_count": 10,
   "metadata": {},
   "outputs": [],
   "source": [
    "import csv\n",
    "import numpy as np\n",
    "import scipy.optimize as sciopt"
   ]
  },
  {
   "cell_type": "code",
   "execution_count": 7,
   "metadata": {},
   "outputs": [],
   "source": [
    "#Tickers of considered stocks\n",
    "tickers = [\"A\"    , \"AAL\"  , \"AAP\"  , \"AAPL\" , \"ABC\"  , \"ABT\" ,  \"ACN\"  , \"ADBE\" , \"ADI\"  , \"ADM\"  , \"ADP\"  , \"ADS\"  , \"ADSK\" , \"AEE\" , \n",
    "\"AEP\"  , \"AES\"  , \"AET\"  , \"AFL\"  , \"AGN\"  , \"AIG\" ,  \"AIV\"  , \"AIZ\"  , \"AJG\"  , \"AKAM\" , \"ALB\"  , \"ALK\"  , \"ALL\"  , \"ALXN\" ,\n",
    "\"AMAT\" , \"AME\"  , \"AMG\"  , \"AMGN\" , \"AMP\"  , \"AMT\" ,  \"AMZN\" , \"AN\"   , \"ANTM\" , \"AON\"  , \"APA\"  , \"APC\"  , \"APD\"  , \"APH\"  ,\n",
    "\"ARNC\" , \"ATVI\" , \"AVB\"  , \"AVGO\" , \"AVY\"  , \"AWK\" ,  \"AXP\"  , \"AYI\"  , \"AZO\"  , \"BA\"   , \"BAC\"  , \"BAX\"  , \"BBBY\" , \"BBT\"  ,\n",
    "\"BBY\"  , \"BCR\"  , \"BDX\"  , \"BEN\"  , \"BHI\"  , \"BIIB\",  \"BK\"   , \"BLK\"  , \"BLL\"  , \"BMY\"  , \"BSX\"  , \"BWA\"  , \"BXP\"  , \"C\"    ,   \n",
    "\"CA\"   , \"CAG\"  , \"CAH\"  , \"CAT\"  , \"CB\"   , \"CBG\" ,  \"CBS\"  , \"CCI\"  , \"CCL\"  , \"CELG\" , \"CERN\" , \"CF\"   , \"CHD\"  , \"CHK\"  ,\n",
    "\"CHRW\" , \"CI\"   , \"CINF\" , \"CL\"   , \"CLX\"  , \"CMA\" ,  \"CMCSA\", \"CME\"  , \"CMG\"  , \"CMI\"  , \"CMS\"  , \"CNC\"  , \"CNP\"  , \"COF\"  ,\n",
    "\"COG\"  , \"COH\"  , \"COL\"  , \"COO\"  , \"COP\"  , \"COST\",  \"CPB\"  , \"CRM\"  , \"CSCO\" , \"CSX\"  , \"CTAS\" , \"CTL\"  , \"CTSH\" , \"CTXS\" ,\n",
    "\"CVS\"  , \"CVX\"  , \"CXO\"  , \"D\"    , \"DAL\"  , \"DD\"  ,  \"DE\"   , \"DFS\"  , \"DG\"   , \"DGX\"  , \"DHI\"  , \"DHR\"  , \"DIS\"  , \"DISCA\",\n",
    "\"DISCK\", \"DLR\"  , \"DLTR\" , \"DNB\"  , \"DOV\"  , \"DOW\" ,  \"DPS\"  , \"DRI\"  , \"DTE\"  , \"DUK\"  , \"DVA\"  , \"DVN\"  , \"EA\"   , \"EBAY\" ,\n",
    "\"ECL\"  , \"ED\"   , \"EFX\"  , \"EIX\"  , \"EL\"   , \"EMN\" ,  \"EMR\"  , \"ENDP\" , \"EOG\"  , \"EQIX\" , \"EQR\"  , \"EQT\"  , \"ES\"   , \"ESRX\" ,\n",
    "\"ESS\"  , \"ETFC\" , \"ETN\"  , \"ETR\"  , \"EW\"   , \"EXC\" ,  \"EXPD\" , \"EXPE\" , \"EXR\"  , \"F\"    , \"FAST\" , \"FCX\"  , \"FDX\"  , \"FE\"   ,   \n",
    "\"FFIV\" , \"FIS\"  , \"FISV\" , \"FITB\" , \"FL\"   , \"FLIR\",  \"FLR\"  , \"FLS\"  , \"FMC\"  , \"FOX\"  , \"FOXA\" , \"FRT\"  , \"FSLR\" , \"FTI\"  ,\n",
    "\"FTR\"  , \"GD\"   , \"GE\"   , \"GGP\"  , \"GILD\" , \"GIS\" ,  \"GLW\"  , \"GOOG\" , \"GOOGL\", \"GPC\"  , \"GPN\"  , \"GPS\"  , \"GRMN\" , \"GS\"   ,   \n",
    "\"GT\"   , \"GWW\"  , \"HAL\"  , \"HAR\"  , \"HAS\"  , \"HBAN\",  \"HBI\"  , \"HCN\"  , \"HCP\"  , \"HD\"   , \"HES\"  , \"HIG\"  , \"HOG\"  , \"HOLX\" ,\n",
    "\"HON\"  , \"HP\"   , \"HPQ\"  , \"HRB\"  , \"HRL\"  , \"HRS\" ,  \"HSIC\" , \"HST\"  , \"HSY\"  , \"HUM\"  , \"IBM\"  , \"ICE\"  , \"IDXX\" , \"IFF\"  ,\n",
    "\"ILMN\" , \"INTC\" , \"INTU\" , \"IP\"   , \"IPG\"  , \"IR\"  ,  \"IRM\"  , \"ISRG\" , \"ITW\"  , \"IVZ\"  , \"JBHT\" , \"JCI\"  , \"JEC\"  , \"JNJ\"  ,\n",
    "\"JNPR\" , \"JPM\"  , \"JWN\"  , \"K\"    , \"KEY\"  , \"KIM\" ,  \"KLAC\" , \"KMB\"  , \"KMX\"  , \"KO\"   , \"KR\"   , \"KSS\"  , \"KSU\"  , \"L\"    ,   \n",
    "\"LB\"   , \"LEG\"  , \"LEN\"  , \"LH\"   , \"LKQ\"  , \"LLL\" ,  \"LLTC\" , \"LLY\"  , \"LMT\"  , \"LNC\"  , \"LNT\"  , \"LOW\"  , \"LRCX\" , \"LUK\"  ,\n",
    "\"LUV\"  , \"LVLT\" , \"M\"    , \"MA\"   , \"MAA\"  , \"MAC\" ,  \"MAR\"  , \"MAS\"  , \"MAT\"  , \"MCD\"  , \"MCHP\" , \"MCK\"  , \"MCO\"  , \"MDLZ\" ,\n",
    "\"MDT\"  , \"MET\"  , \"MHK\"  , \"MJN\"  , \"MKC\"  , \"MLM\" ,  \"MMC\"  , \"MMM\"  , \"MNST\" , \"MO\"   , \"MON\"  , \"MOS\"  , \"MRK\"  , \"MRO\"  ,\n",
    "\"MSFT\" , \"MSI\"  , \"MTB\"  , \"MTD\"  , \"MU\"   , \"MUR\" ,  \"MYL\"  , \"NBL\"  , \"NDAQ\" , \"NEE\"  , \"NEM\"  , \"NFLX\" , \"NFX\"  , \"NI\"   ,   \n",
    "\"NKE\"  , \"NOC\"  , \"NOV\"  , \"NRG\"  , \"NSC\"  , \"NTAP\",  \"NTRS\" , \"NUE\"  , \"NVDA\" , \"NWL\"  , \"O\"    , \"OKE\"  , \"OMC\"  , \"ORCL\" ,\n",
    "\"ORLY\" , \"OXY\"  , \"PAYX\" , \"PBCT\" , \"PBI\"  , \"PCAR\",  \"PCG\"  , \"PCLN\" , \"PDCO\" , \"PEG\"  , \"PEP\"  , \"PFE\"  , \"PFG\"  , \"PG\"   ,   \n",
    "\"PGR\"  , \"PH\"   , \"PHM\"  , \"PKI\"  , \"PLD\"  , \"PM\"  ,  \"PNC\"  , \"PNR\"  , \"PNW\"  , \"PPG\"  , \"PPL\"  , \"PRGO\" , \"PRU\"  , \"PSA\"  ,\n",
    "\"PVH\"  , \"PWR\"  , \"PX\"   , \"PXD\"  , \"QCOM\" , \"R\"   ,  \"RAI\"  , \"RCL\"  , \"REGN\" , \"RF\"   , \"RHI\"  , \"RHT\"  , \"RIG\"  , \"RL\"   ,   \n",
    "\"ROK\"  , \"ROP\"  , \"ROST\" , \"RRC\"  , \"RSG\"  , \"RTN\" ,  \"SBUX\" , \"SCG\"  , \"SCHW\" , \"SE\"   , \"SEE\"  , \"SHW\"  , \"SIG\"  , \"SJM\"  ,\n",
    "\"SLB\"  , \"SLG\"  , \"SNA\"  , \"SNI\"  , \"SO\"   , \"SPG\" ,  \"SPGI\" , \"SPLS\" , \"SRCL\" , \"SRE\"  , \"STI\"  , \"STT\"  , \"STX\"  , \"STZ\"  ,\n",
    "\"SWK\"  , \"SWKS\" , \"SWN\"  , \"SYK\"  , \"SYMC\" , \"SYY\" ,  \"T\"    , \"TAP\"  , \"TDC\"  , \"TEL\"  , \"TGNA\" , \"TGT\"  , \"TIF\"  , \"TJX\"  ,\n",
    "\"TMK\"  , \"TMO\"  , \"TROW\" , \"TRV\"  , \"TSCO\" , \"TSN\" ,  \"TSO\"  , \"TSS\"  , \"TWX\"  , \"TXN\"  , \"TXT\"  , \"UAA\"  , \"UAL\"  , \"UDR\"  ,\n",
    "\"UHS\"  , \"ULTA\" , \"UNH\"  , \"UNM\"  , \"UNP\"  , \"UPS\" ,  \"URBN\" , \"URI\"  , \"USB\"  , \"UTX\"  , \"V\"    , \"VAR\"  , \"VFC\"  , \"VIAB\" ,\n",
    "\"VLO\"  , \"VMC\"  , \"VNO\"  , \"VRSK\" , \"VRSN\" , \"VRTX\",  \"VTR\"  , \"VZ\"   , \"WAT\"  , \"WBA\"  , \"WDC\"  , \"WEC\"  , \"WFC\"  , \"WFM\"  ,\n",
    "\"WHR\"  , \"WM\"   , \"WMB\"  , \"WMT\"  , \"WU\"   , \"WY\"  ,  \"WYN\"  , \"WYNN\" , \"XEC\"  , \"XEL\"  , \"XL\"   , \"XLNX\" , \"XOM\"  , \"XRAY\" ,\n",
    "\"XRX\"  , \"YHOO\" , \"YUM\"  , \"ZBH\"  , \"ZION\"]\n",
    "\n",
    "step_size = 0 #0 = 7gg , 1 = 15gg, 2 = 30gg\n",
    "length = 1762 #NYSE legnth\n",
    "#length = 1259 #S&P500 length\n",
    "max_time = length - 1"
   ]
  },
  {
   "cell_type": "code",
   "execution_count": 9,
   "metadata": {},
   "outputs": [],
   "source": [
    "\n",
    "def read_returns():\n",
    "    rets = np.empty((len(tickers), length))\n",
    "    for idx, tick in enumerate(tickers):\n",
    "        t_rets = []\n",
    "        with open('./data/'+tick+'_returns.csv') as csvFile:\n",
    "            reader = csv.reader(csvFile)\n",
    "            for row in reader:\n",
    "                t_rets.append(float(row[step_size]))\n",
    "        rets[idx] = t_rets\n",
    "    return rets\n",
    "\n",
    "Stock_returns = read_returns()\n",
    "\n",
    "def update_data(period, start = 0):\n",
    "    return np.mean(Stock_returns[:][start:(start+period)], axis=1), np.cov(Stock_returns[:][start:(start+period)])\n",
    "\n",
    "#Set starting time\n",
    "init_period = 120\n",
    "#Compute expected returns and covariance matrix\n",
    "Expected_returns, Covariance_mat = update_data(init_period)"
   ]
  },
  {
   "cell_type": "code",
   "execution_count": 81,
   "metadata": {},
   "outputs": [],
   "source": [
    "#Function to obtain the optimal portfolio\n",
    "def optimal_portfolio(e_returns, cov_mat):\n",
    "    obj = lambda x : -1*(np.dot(x,e_returns)/np.dot(x,np.dot(cov_mat,x)))\n",
    "    bound_ctr = [(0,1) for i in range(len(tickers))]\n",
    "    sum_ctr = [{'type' : 'ineq' , 'fun' : lambda x : np.sum(x) - 1}, {'type' : 'ineq' , 'fun' : lambda x : 1 - np.sum(x)}]\n",
    "    return (sciopt.minimize(obj,np.random.random(len(tickers)), bounds=bound_ctr , constraints=sum_ctr)).x"
   ]
  }
 ],
 "metadata": {
  "kernelspec": {
   "display_name": "Python 3",
   "language": "python",
   "name": "python3"
  },
  "language_info": {
   "codemirror_mode": {
    "name": "ipython",
    "version": 3
   },
   "file_extension": ".py",
   "mimetype": "text/x-python",
   "name": "python",
   "nbconvert_exporter": "python",
   "pygments_lexer": "ipython3",
   "version": "3.7.2"
  }
 },
 "nbformat": 4,
 "nbformat_minor": 2
}
