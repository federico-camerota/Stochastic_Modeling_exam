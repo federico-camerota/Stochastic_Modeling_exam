{
 "cells": [
  {
   "cell_type": "markdown",
   "metadata": {},
   "source": [
    "# Time series based investor"
   ]
  },
  {
   "cell_type": "markdown",
   "metadata": {},
   "source": [
    "## Utility functions"
   ]
  },
  {
   "cell_type": "code",
   "execution_count": 10,
   "metadata": {},
   "outputs": [],
   "source": [
    "import csv\n",
    "import numpy as np\n",
    "import scipy.optimize as sciopt"
   ]
  },
  {
   "cell_type": "code",
   "execution_count": 7,
   "metadata": {},
   "outputs": [],
   "source": [
    "#Tickers of considered stocks\n",
    "tickers = ['L'   , 'HES' , 'BIIB', 'WMT' , 'PBCT', 'BXP' , 'PDCO', 'CI'  , 'AXP' , 'CDNS', 'KLAC', 'AMG' , 'ABBV', 'GLW' , 'BEN',  'UTX' , 'ECL', \n",
    "'TXT' , 'AMP' , 'MGM' , 'AAPL', 'EFX' , 'ESRX', 'SNA' , 'AMGN', 'WYN' , 'LB'  , 'FL'  , 'DRE' , 'IPG' , 'OKE' , 'FAST' ,'COF' , 'TAP', \n",
    "'REGN', 'ALL' , 'HAS' , 'HII' , 'PPL' , 'WMB' , 'MAR' , 'CHD' , 'CRM' , 'TRIP', 'FB'  , 'CLX' , 'GS'  , 'BWA' , 'PNW',  'GIS' , 'A'  ,   \n",
    "'C'   , 'DISH', 'RTN' , 'ROP' , 'PFE' , 'HCN' , 'RL'  , 'NEM' , 'FRT' , 'COG' , 'AVGO', 'MO'  , 'WHR' , 'BAC' , 'ROK',  'PRGO', 'MPC', \n",
    "'NKE' , 'TEL' , 'PHM' , 'WFC' , 'MON' , 'LH'  , 'ETFC', 'CBOE', 'LRCX', 'MS'  , 'K'   , 'APD' , 'COST', 'MCK' , 'XEC',  'INTC', 'LLL', \n",
    "'DLTR', 'PSA' , 'RHI' , 'VLO' , 'JBHT', 'APH' , 'DTE' , 'QCOM', 'GE'  , 'EMN' , 'NWL' , 'SEE' , 'BA'  , 'GRMN', 'STT']"
   ]
  },
  {
   "cell_type": "code",
   "execution_count": 9,
   "metadata": {},
   "outputs": [],
   "source": [
    "step_size = 0 #0 = 7gg , 1 = 15gg, 2 = 30gg\n",
    "def read_returns():\n",
    "    rets = np.empty((100, 1259))\n",
    "    for idx, tick in enumerate(tickers):\n",
    "        t_rets = []\n",
    "        with open('./data/'+tick+'_returns.csv') as csvFile:\n",
    "            reader = csv.reader(csvFile)\n",
    "            for row in reader:\n",
    "                t_rets.append(float(row[step_size]))\n",
    "        rets[idx] = t_rets\n",
    "    return rets\n",
    "\n",
    "Stock_returns = read_returns()\n",
    "\n",
    "def update_data(period, start = 0):\n",
    "    return np.mean(Stock_returns[:][start:(start+period-1)], axis=1), np.cov(Stock_returns[:][start:(start+period-1)])\n",
    "\n",
    "#Set starting time\n",
    "init_period = 200\n",
    "#Compute expected returns and covariance matrix\n",
    "Expected_returns, Covariance_mat = update_data(init_period)"
   ]
  },
  {
   "cell_type": "code",
   "execution_count": 81,
   "metadata": {},
   "outputs": [],
   "source": [
    "#Function to obtain the optimal portfolio\n",
    "def optimal_portfolio(e_returns, cov_mat):\n",
    "    obj = lambda x : -1*(np.dot(x,e_returns)/np.dot(x,np.dot(cov_mat,x)))\n",
    "    bound_ctr = [(0,1) for i in range(len(tickers))]\n",
    "    sum_ctr = [{'type' : 'ineq' , 'fun' : lambda x : np.sum(x) - 1}, {'type' : 'ineq' , 'fun' : lambda x : 1 - np.sum(x)}]\n",
    "    return (sciopt.minimize(obj,np.random.random(100), bounds=bound_ctr , constraints=sum_ctr)).x"
   ]
  }
 ],
 "metadata": {
  "kernelspec": {
   "display_name": "Python 3",
   "language": "python",
   "name": "python3"
  },
  "language_info": {
   "codemirror_mode": {
    "name": "ipython",
    "version": 3
   },
   "file_extension": ".py",
   "mimetype": "text/x-python",
   "name": "python",
   "nbconvert_exporter": "python",
   "pygments_lexer": "ipython3",
   "version": "3.7.2"
  }
 },
 "nbformat": 4,
 "nbformat_minor": 2
}
