{
 "cells": [
  {
   "cell_type": "code",
   "execution_count": 5,
   "metadata": {},
   "outputs": [],
   "source": [
    "import csv\n",
    "import numpy as np"
   ]
  },
  {
   "cell_type": "code",
   "execution_count": 4,
   "metadata": {},
   "outputs": [],
   "source": [
    "tickers = ['L'   , 'HES' , 'BIIB', 'WMT' , 'PBCT', 'BXP' , 'PDCO', 'CI'  , 'AXP' , 'CDNS', 'KLAC', 'AMG' , 'ABBV', 'GLW' , 'BEN',  'UTX' , 'ECL', \n",
    "'TXT' , 'AMP' , 'MGM' , 'AAPL', 'EFX' , 'ESRX', 'SNA' , 'AMGN', 'WYN' , 'LB'  , 'FL'  , 'DRE' , 'IPG' , 'OKE' , 'FAST,' 'COF' , 'TAP', \n",
    "'REGN', 'ALL' , 'HAS' , 'HII' , 'PPL' , 'WMB' , 'MAR' , 'CHD' , 'CRM' , 'TRIP', 'FB'  , 'CLX' , 'GS'  , 'BWA' , 'PNW',  'GIS' , 'A'  ,   \n",
    "'C'   , 'DISH', 'RTN' , 'ROP' , 'PFE' , 'HCN' , 'RL'  , 'NEM' , 'FRT' , 'COG' , 'AVGO', 'MO'  , 'WHR' , 'BAC' , 'ROK',  'PRGO', 'MPC', \n",
    "'NKE' , 'TEL' , 'PHM' , 'WFC' , 'MON' , 'LH'  , 'ETFC', 'CBOE', 'LRCX', 'MS'  , 'K'   , 'APD' , 'COST', 'MCK' , 'XEC',  'INTC', 'LLL', \n",
    "'DLTR', 'PSA' , 'RHI' , 'VLO' , 'JBHT', 'APH' , 'DTE' , 'QCOM', 'GE'  , 'EMN' , 'NWL' , 'SEE' , 'BA'  , 'GRMN', 'STT']\n"
   ]
  },
  {
   "cell_type": "code",
   "execution_count": null,
   "metadata": {},
   "outputs": [],
   "source": [
    "end_name = '_data.csv'\n",
    "new_end_name = '_prices.csv'\n",
    "market_val = np.zeros((1259,1))\n",
    "\n",
    "for t in tickers:\n",
    "    with open(t+end_name) as csvFile:\n",
    "        reader = csv.reader(csvFile)\n",
    "        with open(t+new_end_name, 'w') as outFile:\n",
    "            writer = csv.writer(outFile)\n",
    "            i = 1\n",
    "            for row in reader:\n",
    "                writer.writerows([i, row[4]])\n",
    "                market_val[i-1] += float(row[4])\n",
    "                i+=1\n",
    "\n",
    "with open('market_prices.csv') as marketFile:\n",
    "    writer = csv.writer(marketFile)\n",
    "    for idx, price in enumerate(market_val):\n",
    "        writer.writerows([idx + 1, price])"
   ]
  }
 ],
 "metadata": {
  "kernelspec": {
   "display_name": "Python 3",
   "language": "python",
   "name": "python3"
  },
  "language_info": {
   "codemirror_mode": {
    "name": "ipython",
    "version": 3
   },
   "file_extension": ".py",
   "mimetype": "text/x-python",
   "name": "python",
   "nbconvert_exporter": "python",
   "pygments_lexer": "ipython3",
   "version": "3.7.2"
  }
 },
 "nbformat": 4,
 "nbformat_minor": 2
}
