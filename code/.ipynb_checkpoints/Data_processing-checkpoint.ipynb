{
 "cells": [
  {
   "cell_type": "code",
   "execution_count": 1,
   "metadata": {},
   "outputs": [],
   "source": [
    "import csv\n",
    "import numpy as np"
   ]
  },
  {
   "cell_type": "code",
   "execution_count": 2,
   "metadata": {},
   "outputs": [],
   "source": [
    "#tickers = ['L'   , 'HES' , 'BIIB', 'WMT' , 'PBCT', 'BXP' , 'PDCO', 'CI'  , 'AXP' , 'CDNS', 'KLAC', 'AMG' , 'ABBV', 'GLW' , 'BEN',  'UTX' , 'ECL', \n",
    "#'TXT' , 'AMP' , 'MGM' , 'AAPL', 'EFX' , 'ESRX', 'SNA' , 'AMGN', 'WYN' , 'LB'  , 'FL'  , 'DRE' , 'IPG' , 'OKE' , 'FAST' ,'COF' , 'TAP', \n",
    "#'REGN', 'ALL' , 'HAS' , 'HII' , 'PPL' , 'WMB' , 'MAR' , 'CHD' , 'CRM' , 'TRIP', 'FB'  , 'CLX' , 'GS'  , 'BWA' , 'PNW',  'GIS' , 'A'  ,   \n",
    "#'C'   , 'DISH', 'RTN' , 'ROP' , 'PFE' , 'HCN' , 'RL'  , 'NEM' , 'FRT' , 'COG' , 'AVGO', 'MO'  , 'WHR' , 'BAC' , 'ROK',  'PRGO', 'MPC', \n",
    "#'NKE' , 'TEL' , 'PHM' , 'WFC' , 'MON' , 'LH'  , 'ETFC', 'CBOE', 'LRCX', 'MS'  , 'K'   , 'APD' , 'COST', 'MCK' , 'XEC',  'INTC', 'LLL', \n",
    "#'DLTR', 'PSA' , 'RHI' , 'VLO' , 'JBHT', 'APH' , 'DTE' , 'QCOM', 'GE'  , 'EMN' , 'NWL' , 'SEE' , 'BA'  , 'GRMN', 'STT']\n",
    "\n",
    "tickers = [\"MMM\"  , \"ABT\"  , \"ABBV\" , \"ACN\" ,  \"ATVI\" , \"AYI\"  , \"ADBE\" , \"AMD\"  , \"AAP\"  , \"AES\"  , \"AET\"  , \"AMG\"  , \"AFL\"  , \"A\"   ,   \n",
    "\"APD\"  , \"AKAM\" , \"ALK\"  , \"ALB\" ,  \"ARE\"  , \"ALXN\" , \"ALGN\" , \"ALLE\" , \"AGN\"  , \"ADS\"  , \"LNT\"  , \"ALL\"  , \"GOOGL\", \"GOOG\", \n",
    "\"MO\"   , \"AEE\"  , \"AAL\"  , \"AEP\" ,  \"AXP\"  , \"AIG\"  , \"AMT\"  , \"AWK\"  , \"AMP\"  , \"ABC\"  , \"AME\"  , \"AMGN\" , \"APH\"  , \"APC\" , \n",
    "\"ADI\"  , \"ANDV\" , \"ANSS\" , \"ANTM\",  \"AON\"  , \"APA\"  , \"AIV\"  , \"AAPL\" , \"AMAT\" , \"APTV\" , \"ADM\"  , \"ARNC\" , \"AJG\"  , \"AIZ\" , \n",
    "\"T\"    , \"ADSK\" , \"ADP\"  , \"AZO\" ,  \"AVB\"  , \"AVY\"  , \"BHGE\" , \"BLL\"  , \"BAC\"  , \"BBT\"  , \"BDX\"  , \"BRK.B\", \"BBY\"  , \"BLK\" , \n",
    "\"HRB\"  , \"BA\"   , \"BWA\"  , \"BXP\" ,  \"BSX\"  , \"BHF\"  , \"BMY\"  , \"AVGO\" , \"BF.B\" , \"CHRW\" , \"CA\"   , \"COG\"  , \"CDNS\" , \"CPB\" , \n",
    "\"COF\"  , \"CAH\"  , \"CBOE\" , \"KMX\" ,  \"CAT\"  , \"CBG\"  , \"CBS\"  , \"CELG\" , \"CNC\"  , \"CNP\"  , \"CTL\"  , \"CERN\" , \"CF\"   , \"SCHW\", \n",
    "\"CHTR\" , \"CHK\"  , \"CVX\"  , \"CMG\" ,  \"CB\"   , \"CHD\"  , \"CI\"   , \"XEC\"  , \"CINF\" , \"CTAS\" , \"CSCO\" , \"C\"    , \"CTXS\" , \"CLX\" , \n",
    "\"CME\"  , \"KO\"   , \"CTSH\" , \"CL\"  ,  \"CMCSA\", \"CMA\"  , \"CAG\"  , \"CXO\"  , \"COP\"  , \"ED\"   , \"STZ\"  , \"COO\"  , \"GLW\"  , \"COST\", \n",
    "\"COTY\" , \"CCI\"  , \"CSX\"  , \"CMI\" ,  \"CVS\"  , \"DHI\"  , \"DHR\"  , \"DRI\"  , \"DVA\"  , \"DE\"   , \"DAL\"  , \"XRAY\" , \"DVN\"  , \"DLR\" , \n",
    "\"DFS\"  , \"DISCA\", \"DG\"   , \"DLTR\",  \"D\"    , \"DOV\"  , \"DWDP\" , \"DPS\"  , \"DTE\"  , \"DRE\"  , \"DUK\"  , \"DXC\"  , \"ETFC\" , \"EMN\" , \n",
    "\"ETN\"  , \"ECL\"  , \"EIX\"  , \"EW\"  ,  \"EA\"   , \"EMR\"  , \"EVHC\" , \"EOG\"  , \"EQT\"  , \"EFX\"  , \"EQIX\" , \"EQR\"  , \"ESS\"  , \"EL\"  , \n",
    "\"ES\"   , \"RE\"   , \"EXC\"  , \"EXPE\",  \"EXPD\" , \"ESRX\" , \"EXR\"  , \"XOM\"  , \"FFIV\" , \"FB\"   , \"FAST\" , \"FRT\"  , \"FDX\"  , \"FE\"  , \n",
    "\"FISV\" , \"FLS\"  , \"FLR\"  , \"FMC\" ,  \"FL\"   , \"F\"    , \"FTV\"  , \"FBHS\" , \"FCX\"  , \"GPS\"  , \"GRMN\" , \"IT\"   , \"GD\"   , \"GE\"  , \n",
    "\"GGP\"  , \"GIS\"  , \"GM\"   , \"GPC\" ,  \"GILD\" , \"GPN\"  , \"GS\"   , \"GT\"   , \"GWW\"  , \"HAL\"  , \"HBI\"  , \"HOG\"  , \"HRS\"  , \"HAS\" , \n",
    "\"HCA\"  , \"HCP\"  , \"HP\"   , \"HES\" ,  \"HPE\"  , \"HLT\"  , \"HOLX\" , \"HD\"   , \"HON\"  , \"HRL\"  , \"HST\"  , \"HUM\"  , \"HBAN\" , \"HII\" , \n",
    "\"IDXX\" , \"ITW\"  , \"ILMN\" , \"IR\"  ,  \"INTC\" , \"IBM\"  , \"INCY\" , \"IP\"   , \"IPG\"  , \"IFF\"  , \"INTU\" , \"ISRG\" , \"IVZ\"  , \"IQV\" , \n",
    "\"IRM\"  , \"JEC\"  , \"JBHT\" , \"SJM\" ,  \"JNJ\"  , \"JCI\"  , \"JNPR\" , \"KSU\"  , \"K\"    , \"KEY\"  , \"KMB\"  , \"KIM\"  , \"KMI\"  , \"KLAC\", \n",
    "\"KSS\"  , \"KHC\"  , \"KR\"   , \"LB\"  ,  \"LLL\"  , \"LH\"   , \"LRCX\" , \"LEG\"  , \"LEN\"  , \"LUK\"  , \"LLY\"  , \"LNC\"  , \"LKQ\"  , \"LMT\" , \n",
    "\"L\"    , \"LOW\"  , \"LYB\"  , \"MTB\" ,  \"MAC\"  , \"M\"    , \"MRO\"  , \"MPC\"  , \"MAR\"  , \"MMC\"  , \"MLM\"  , \"MAS\"  , \"MA\"   , \"MAT\" , \n",
    "\"MKC\"  , \"MCD\"  , \"MCK\"  , \"MDT\" ,  \"MRK\"  , \"MET\"  , \"MTD\"  , \"MGM\"  , \"KORS\" , \"MCHP\" , \"MU\"   , \"MSFT\" , \"MAA\"  , \"MHK\" , \n",
    "\"TAP\"  , \"MDLZ\" , \"MON\"  , \"MNST\",  \"MCO\"  , \"MS\"   , \"MOS\"  , \"MSI\"  , \"MYL\"  , \"NDAQ\" , \"NAVI\" , \"NTAP\" , \"NFLX\" , \"NWL\" , \n",
    "\"NFX\"  , \"NEM\"  , \"NWSA\" , \"NWS\" ,  \"NEE\"  , \"NLSN\" , \"NKE\"  , \"NI\"   , \"NBL\"  , \"JWN\"  , \"NSC\"  , \"NTRS\" , \"NOC\"  , \"NCLH\", \n",
    "\"NRG\"  , \"OXY\"  , \"OMC\"  , \"ORCL\",  \"PCAR\" , \"PKG\"  , \"PH\"   , \"PDCO\" , \"PAYX\" , \"PYPL\" , \"PNR\"  , \"PBCT\" , \"PEP\"  , \"PKI\" , \n",
    "\"PRGO\" , \"PFE\"  , \"PCG\"  , \"PM\"  ,  \"PSX\"  , \"PNW\"  , \"PXD\"  , \"PNC\"  , \"RL\"   , \"PPG\"  , \"PPL\"  , \"PX\"   , \"PCLN\" , \"PFG\" , \n",
    "\"PG\"   , \"PGR\"  , \"PLD\"  , \"PRU\" ,  \"PEG\"  , \"PSA\"  , \"PHM\"  , \"PVH\"  , \"PWR\"  , \"DGX\"  , \"RRC\"  , \"RJF\"  , \"RTN\"  , \"O\"   ,\n",
    "\"RHT\"  , \"REG\"  , \"REGN\" , \"RF\"  ,  \"RSG\"  , \"RMD\"  , \"RHI\"  , \"ROK\"  , \"COL\"  , \"ROP\"  , \"ROST\" , \"RCL\"  , \"CRM\"  , \"SBAC\", \n",
    "\"SCG\"  , \"SLB\"  , \"SNI\"  , \"STX\" ,  \"SEE\"  , \"SRE\"  , \"SHW\"  , \"SIG\"  , \"SPG\"  , \"SWKS\" , \"SLG\"  , \"SNA\"  , \"SO\"   , \"LUV\" , \n",
    "\"SPGI\" , \"SWK\"  , \"SBUX\" , \"STT\" ,  \"SRCL\" , \"SYK\"  , \"STI\"  , \"SYF\"  , \"SNPS\" , \"SYY\"  , \"TROW\" , \"TPR\"  , \"TGT\"  , \"TEL\" , \n",
    "\"FTI\"  , \"TXN\"  , \"TXT\"  , \"TMO\" ,  \"TIF\"  , \"TWX\"  , \"TJX\"  , \"TMK\"  , \"TSS\"  , \"TSCO\" , \"TDG\"  , \"TRV\"  , \"TRIP\" , \"FOXA\", \n",
    "\"FOX\"  , \"UDR\"  , \"ULTA\" , \"USB\" ,  \"UAA\"  , \"UA\"   , \"UNP\"  , \"UAL\"  , \"UNH\"  , \"UPS\"  , \"URI\"  , \"UTX\"  , \"UHS\"  , \"UNM\" , \n",
    "\"VFC\"  , \"VLO\"  , \"VAR\"  , \"VTR\" ,  \"VRSN\" , \"VRSK\" , \"VZ\"   , \"VRTX\" , \"VIAB\" , \"V\"    , \"VNO\"  , \"VMC\"  , \"WMT\"  , \"WBA\" , \n",
    "\"DIS\"  , \"WM\"   , \"WAT\"  , \"WFC\" ,  \"HCN\"  , \"WDC\"  , \"WRK\"  , \"WY\"   , \"WHR\"  , \"WMB\"  , \"WLTW\" , \"WYN\"  , \"WYNN\" , \"XEL\" , \n",
    "\"XRX\"  , \"XLNX\" , \"XL\"   , \"XYL\" ,  \"YUM\"  , \"ZBH\"  , \"ZION\" , \"ZTS\"]\n"
   ]
  },
  {
   "cell_type": "code",
   "execution_count": 8,
   "metadata": {},
   "outputs": [
    {
     "ename": "FileNotFoundError",
     "evalue": "[Errno 2] No such file or directory: 'market_prices.csv'",
     "output_type": "error",
     "traceback": [
      "\u001b[0;31m---------------------------------------------------------------------------\u001b[0m",
      "\u001b[0;31mFileNotFoundError\u001b[0m                         Traceback (most recent call last)",
      "\u001b[0;32m<ipython-input-8-3f88a361eced>\u001b[0m in \u001b[0;36m<module>\u001b[0;34m()\u001b[0m\n\u001b[1;32m     18\u001b[0m                 \u001b[0mi\u001b[0m\u001b[0;34m+=\u001b[0m\u001b[0;36m1\u001b[0m\u001b[0;34m\u001b[0m\u001b[0;34m\u001b[0m\u001b[0m\n\u001b[1;32m     19\u001b[0m \u001b[0;34m\u001b[0m\u001b[0m\n\u001b[0;32m---> 20\u001b[0;31m \u001b[0;32mwith\u001b[0m \u001b[0mopen\u001b[0m\u001b[0;34m(\u001b[0m\u001b[0;34m'market_prices.csv'\u001b[0m\u001b[0;34m)\u001b[0m \u001b[0;32mas\u001b[0m \u001b[0mmarketFile\u001b[0m\u001b[0;34m:\u001b[0m\u001b[0;34m\u001b[0m\u001b[0;34m\u001b[0m\u001b[0m\n\u001b[0m\u001b[1;32m     21\u001b[0m     \u001b[0mwriter\u001b[0m \u001b[0;34m=\u001b[0m \u001b[0mcsv\u001b[0m\u001b[0;34m.\u001b[0m\u001b[0mwriter\u001b[0m\u001b[0;34m(\u001b[0m\u001b[0mmarketFile\u001b[0m\u001b[0;34m)\u001b[0m\u001b[0;34m\u001b[0m\u001b[0;34m\u001b[0m\u001b[0m\n\u001b[1;32m     22\u001b[0m     \u001b[0;32mfor\u001b[0m \u001b[0midx\u001b[0m\u001b[0;34m,\u001b[0m \u001b[0mprice\u001b[0m \u001b[0;32min\u001b[0m \u001b[0menumerate\u001b[0m\u001b[0;34m(\u001b[0m\u001b[0mmarket_val\u001b[0m\u001b[0;34m)\u001b[0m\u001b[0;34m:\u001b[0m\u001b[0;34m\u001b[0m\u001b[0;34m\u001b[0m\u001b[0m\n",
      "\u001b[0;31mFileNotFoundError\u001b[0m: [Errno 2] No such file or directory: 'market_prices.csv'"
     ]
    }
   ],
   "source": [
    "path = './data2/'\n",
    "end_name = '_data.csv'\n",
    "new_end_name = '_prices.csv'\n",
    "market_val = np.zeros((1259,1))\n",
    "\n",
    "#Extract closing prices from files and create new price files\n",
    "for t in tickers:\n",
    "    with open(path+t+end_name) as csvFile:\n",
    "        reader = csv.reader(csvFile)\n",
    "        with open(path+t+new_end_name, 'w') as outFile:\n",
    "            writer = csv.writer(outFile)\n",
    "            i = 1\n",
    "            flag = 0\n",
    "            for row in reader:\n",
    "                if flag == 0:\n",
    "                    flag = 1\n",
    "                    continue\n",
    "                writer.writerow([i, row[4]])\n",
    "                market_val[i-1] += float(row[4])\n",
    "                i+=1"
   ]
  },
  {
   "cell_type": "code",
   "execution_count": 13,
   "metadata": {},
   "outputs": [],
   "source": [
    "#Create market prices file\n",
    "with open(path+'market_prices.csv', 'w') as marketFile:\n",
    "    writer = csv.writer(marketFile)\n",
    "    for idx, price in enumerate(market_val):\n",
    "        writer.writerow([(idx + 1), price[0]])"
   ]
  },
  {
   "cell_type": "code",
   "execution_count": 16,
   "metadata": {},
   "outputs": [],
   "source": [
    "def periodic_return(prices, period):\n",
    "    returns = [0 for i in range(period)]\n",
    "    for x in range(period, len(prices)):\n",
    "        returns.append((prices[x]- prices[x-period])/prices[x-period])\n",
    "        \n",
    "    return np.array(returns)"
   ]
  },
  {
   "cell_type": "code",
   "execution_count": null,
   "metadata": {},
   "outputs": [],
   "source": [
    "#Compute returns\n",
    "return_name = '_returns.csv'\n",
    "for t in tickers:\n",
    "    values = []\n",
    "    with open(path+t+'_prices.csv') as csvFile:\n",
    "        reader = csv.reader(csvFile)\n",
    "        for row in reader:\n",
    "            values.append(float(row[1]))\n",
    "    values = np.array(values)\n",
    "    with open(path+t+return_name, 'w') as outFile:\n",
    "        writer = csv.writer(outFile)\n",
    "        data = np.transpose(np.stack((periodic_return(values,7),periodic_return(values,15),periodic_return(values,30))))\n",
    "        writer.writerows(data)\n",
    "            "
   ]
  },
  {
   "cell_type": "code",
   "execution_count": null,
   "metadata": {},
   "outputs": [],
   "source": []
  }
 ],
 "metadata": {
  "kernelspec": {
   "display_name": "Python 3",
   "language": "python",
   "name": "python3"
  },
  "language_info": {
   "codemirror_mode": {
    "name": "ipython",
    "version": 3
   },
   "file_extension": ".py",
   "mimetype": "text/x-python",
   "name": "python",
   "nbconvert_exporter": "python",
   "pygments_lexer": "ipython3",
   "version": "3.7.2"
  }
 },
 "nbformat": 4,
 "nbformat_minor": 2
}
