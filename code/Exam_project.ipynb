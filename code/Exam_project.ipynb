{
 "cells": [
  {
   "cell_type": "code",
   "execution_count": 3,
   "metadata": {},
   "outputs": [],
   "source": [
    "import csv\n",
    "import numpy as np\n",
    "import random as rnd\n",
    "import copy as cp"
   ]
  },
  {
   "cell_type": "markdown",
   "metadata": {},
   "source": [
    "# Market chain class"
   ]
  },
  {
   "cell_type": "code",
   "execution_count": 4,
   "metadata": {},
   "outputs": [],
   "source": [
    "class Market_MC:\n",
    "    def __init__(self, filepath, gap = 0, end = float(\"inf\"), col = 1):\n",
    "        self.filepath = filepath\n",
    "        values = []\n",
    "        #Read the market daily prices form given file\n",
    "        with open(filepath) as csvData:\n",
    "            csvReader = csv.reader(csvData)\n",
    "            i = 0\n",
    "            for row in csvReader:\n",
    "                if i >= gap and i <= end:\n",
    "                    values.append(float(row[col]))\n",
    "                i += 1\n",
    "        \n",
    "        self.value = np.array(values)\n",
    "        \n",
    "    def update_params(self, period, start = 0):\n",
    "    \n",
    "        movement = self.value[start + 1:(start + period)] >= self.value[start :(start + period-1)]\n",
    "        #Compute transition probabilities\n",
    "        b_t_b = np.sum(~(movement[1:] | movement[0:-1]))/np.sum(~movement[0:-1])\n",
    "        g_t_g = np.sum((movement[1:] & movement[0:-1]))/np.sum(movement[0:-1])\n",
    "        self.probs = np.array([b_t_b,1-b_t_b,1-g_t_g,g_t_g]).reshape((2,2))\n",
    "        #Update market state\n",
    "        self.state = 1 if movement[-1] else 0\n",
    "        \n",
    "        return movement\n",
    "        \n",
    "    def simulate_market(self, length):\n",
    "        #Sample lenght random numbers in (0,1)\n",
    "        rnd_vals = [rnd.uniform(0,1) for i in range(length)]\n",
    "        new_state = 1\n",
    "        if rnd_vals[0] < self.probs[self.state][0]:\n",
    "            new_state = 0\n",
    "        market_states = [new_state]\n",
    "    \n",
    "        for idx, x in enumerate(rnd_vals[1:]):\n",
    "            #update market state\n",
    "            new_state = 1\n",
    "            if x < self.probs[market_states[idx]][0]:\n",
    "                new_state = 0\n",
    "            market_states.append(new_state)\n",
    "        \n",
    "        return np.array(market_states)\n",
    "\n",
    "    def set_state(self, state):\n",
    "        self.state = state"
   ]
  },
  {
   "cell_type": "markdown",
   "metadata": {},
   "source": [
    "# Stock chain class"
   ]
  },
  {
   "cell_type": "code",
   "execution_count": 5,
   "metadata": {},
   "outputs": [],
   "source": [
    "class Stock_MC:\n",
    "    \n",
    "    def __init__(self, filepath, gap = 0, end = float(\"inf\"), col = 1):\n",
    "        self.filepath = filepath\n",
    "        values = []\n",
    "        #Read the stock daily prices form given file\n",
    "        with open(filepath) as csvData:\n",
    "            csvReader = csv.reader(csvData)\n",
    "            i = 0\n",
    "            for row in csvReader:\n",
    "                if i >= gap and i <= end:\n",
    "                    values.append(float(row[col]))\n",
    "                i += 1\n",
    "        \n",
    "        self.value = np.array(values)\n",
    "        \n",
    "    def update_params(self, market_movement, period, start = 0, delta_type = 0):\n",
    "    \n",
    "        \n",
    "        ups = self.value[start + 1:(start + period)] >= self.value[start :(start + period-1)]\n",
    "        #Compute transition probabilities\n",
    "        \n",
    "        #Probabilities for bad market \n",
    "        up_b = np.sum(ups[1:] & ~market_movement[1:])/np.sum(~market_movement[1:])\n",
    "        #self.probs[0][1] = np.sum(ups[1:] & ~market_movement[1:])/(period - 1)\n",
    "        #self.probs[0][0] = 1 - self.probs[0][1]\n",
    "        #Probabilities for good market\n",
    "        up_g = np.sum(ups[1:] & market_movement[1:])/np.sum(market_movement[1:])\n",
    "        #self.probs[1][1] = np.sum(ups[1:] & market_movement[0:-1])/(period - 1)\n",
    "        #self.probs[1][0] = 1 - self.probs[1][1]\n",
    "        self.probs = np.array([1-up_b, up_b, 1-up_g, up_g]).reshape((2,2))\n",
    "        #Update stock state\n",
    "        self.state = self.value[start + period - 1]\n",
    "        #Update stock delta parameter\n",
    "        if delta_type == 0:\n",
    "                #Use mean variation as delta\n",
    "                self.delta = np.mean(np.absolute(self.value[start + 1:(start + period)] - self.value[start :(start + period-1)]))\n",
    "        elif delta_type == 1:\n",
    "                #Use median variation as delta\n",
    "                self.delta = np.median(np.absolute(self.value[start + 1:(start + period)] - self.value[start :(start + period-1)]))\n",
    "        elif delta_type == 2:\n",
    "                #Use minimum variation as delta\n",
    "                self.delta = np.quantile(np.absolute(self.value[start + 1:(start + period)] - self.value[start :(start + period-1)]),0.1)\n",
    "        \n",
    "        \n",
    "    def simulate_stock_trajectory(self, market_state, length):\n",
    "        #Sample lenght random numbers in (0,1)\n",
    "        rnd_vals = [rnd.uniform(0,1) for i in range(length)]\n",
    "        stock_states = [(self.state - self.delta) if (rnd_vals[0] <= self.probs[market_state[0]][0]) else (self.state + self.delta)]\n",
    "            \n",
    "        for idx, x in enumerate(rnd_vals[1:]):\n",
    "            #update stock state\n",
    "            if x <= self.probs[market_state[idx+1]][0]:\n",
    "                stock_states.append(stock_states[idx] - self.delta)\n",
    "            else:                           \n",
    "                stock_states.append(stock_states[idx] + self.delta)\n",
    "\n",
    "            \n",
    "        return np.array(stock_states)\n",
    "    \n",
    "    def simulate_stock_price(self, market_state, length):\n",
    "        #Sample lenght random numbers in (0,1)\n",
    "        rnd_vals = [rnd.uniform(0,1) for i in range(length)]\n",
    "        end_value = cp.copy(self.state)\n",
    "        for idx, x in enumerate(rnd_vals):\n",
    "            #update stock state\n",
    "            if x <= self.probs[market_state[idx]][0]:\n",
    "                end_value -= self.delta\n",
    "            else:\n",
    "                end_value += self.delta\n",
    "                \n",
    "        return end_value\n",
    "        \n",
    "    def set_state(self, state):\n",
    "        self.state = state"
   ]
  },
  {
   "cell_type": "markdown",
   "metadata": {},
   "source": [
    "# Utility functions"
   ]
  },
  {
   "cell_type": "code",
   "execution_count": 8,
   "metadata": {},
   "outputs": [],
   "source": [
    "#Tickers of considered stocks\n",
    "tickers = ['L'   , 'HES' , 'BIIB', 'WMT' , 'PBCT', 'BXP' , 'PDCO', 'CI'  , 'AXP' , 'CDNS', 'KLAC', 'AMG' , 'ABBV', 'GLW' , 'BEN',  'UTX' , 'ECL', \n",
    "'TXT' , 'AMP' , 'MGM' , 'AAPL', 'EFX' , 'ESRX', 'SNA' , 'AMGN', 'WYN' , 'LB'  , 'FL'  , 'DRE' , 'IPG' , 'OKE' , 'FAST' ,'COF' , 'TAP', \n",
    "'REGN', 'ALL' , 'HAS' , 'HII' , 'PPL' , 'WMB' , 'MAR' , 'CHD' , 'CRM' , 'TRIP', 'FB'  , 'CLX' , 'GS'  , 'BWA' , 'PNW',  'GIS' , 'A'  ,   \n",
    "'C'   , 'DISH', 'RTN' , 'ROP' , 'PFE' , 'HCN' , 'RL'  , 'NEM' , 'FRT' , 'COG' , 'AVGO', 'MO'  , 'WHR' , 'BAC' , 'ROK',  'PRGO', 'MPC', \n",
    "'NKE' , 'TEL' , 'PHM' , 'WFC' , 'MON' , 'LH'  , 'ETFC', 'CBOE', 'LRCX', 'MS'  , 'K'   , 'APD' , 'COST', 'MCK' , 'XEC',  'INTC', 'LLL', \n",
    "'DLTR', 'PSA' , 'RHI' , 'VLO' , 'JBHT', 'APH' , 'DTE' , 'QCOM', 'GE'  , 'EMN' , 'NWL' , 'SEE' , 'BA'  , 'GRMN', 'STT']\n",
    "#Stocks and market MC\n",
    "Stocks = {ticker : Stock_MC('./data/'+ticker+'_prices.csv') for ticker in tickers}\n",
    "Market = Market_MC('./data/market_prices.csv')\n",
    "\n",
    "\n",
    "#Set starting time\n",
    "init_period = 500\n",
    "max_time = 1258\n",
    "#Step size 0 = 7gg, 1 = 15gg, 2 = 30gg\n",
    "step_size = 2\n",
    "#Initialize parameters of the market and stock chains\n",
    "market_movement = Market.update_params(init_period)\n",
    "for tick in tickers:\n",
    "    Stocks[tick].update_params(market_movement, init_period, delta_type = 1)"
   ]
  },
  {
   "cell_type": "code",
   "execution_count": 9,
   "metadata": {},
   "outputs": [],
   "source": [
    "import scipy.optimize as sciopt\n",
    "\n",
    "\n",
    "#Read stocks historical returns\n",
    "def read_returns():\n",
    "    rets = np.empty((100, 1259))\n",
    "    for idx, tick in enumerate(tickers):\n",
    "        t_rets = []\n",
    "        with open('./data/'+tick+'_returns.csv') as csvFile:\n",
    "            reader = csv.reader(csvFile)\n",
    "            for row in reader:\n",
    "                t_rets.append(float(row[step_size]))\n",
    "        rets[idx] = t_rets\n",
    "    return rets\n",
    "\n",
    "Stock_returns = read_returns()\n",
    "\n",
    "def estimate_cov_matrix(rets, period, start):\n",
    "    variance = np.var(rets, axis=1)\n",
    "    correlation = np.corrcoef(Stock_returns[:,start:(start+period)])\n",
    "    return np.multiply(np.sqrt(variance.reshape((1,len(variance)))*variance.reshape((len(variance),1))),correlation)\n",
    "\n",
    "#Function to obtain the optimal portfolio\n",
    "def optimal_portfolio(e_returns, cov_mat):\n",
    "    obj = lambda x : -1*(np.dot(x,e_returns)/np.dot(x,np.dot(cov_mat,x)))\n",
    "    bound_ctr = [(0,1) for i in range(len(tickers))]\n",
    "    sum_ctr = [{'type' : 'ineq' , 'fun' : lambda x : np.sum(x) - 1}, {'type' : 'ineq' , 'fun' : lambda x : 1 - np.sum(x)}]\n",
    "    return (sciopt.minimize(obj,np.random.random(100), bounds=bound_ctr , constraints=sum_ctr)).x\n",
    "#Function to obtain the optimal portfolio\n",
    "def optimal_portfolio2(e_returns):\n",
    "    obj = lambda x : -1*np.dot(x,e_returns)\n",
    "    bound_ctr = [(0,1) for i in range(len(tickers))]\n",
    "    sum_ctr = [{'type' : 'ineq' , 'fun' : lambda x : np.sum(x) - 1}, {'type' : 'ineq' , 'fun' : lambda x : 1 - np.sum(x)}]\n",
    "    return (sciopt.minimize(obj,np.random.random(100), bounds=bound_ctr , constraints=sum_ctr)).x\n",
    "#Function to obtain the optimal portfolio\n",
    "def optimal_portfolio3(e_returns, cov_mat):\n",
    "    obj = lambda x : -1*np.dot(x,e_returns)+np.dot(x,np.dot(cov_mat,x))\n",
    "    bound_ctr = [(0,1) for i in range(len(tickers))]\n",
    "    sum_ctr = [{'type' : 'ineq' , 'fun' : lambda x : np.sum(x) - 1}, {'type' : 'ineq' , 'fun' : lambda x : 1 - np.sum(x)}]\n",
    "    return (sciopt.minimize(obj,np.random.random(100), bounds=bound_ctr , constraints=sum_ctr)).x\n",
    "\n",
    "def evaluate_portfolio(portofolio, start, end):\n",
    "    initial_value = 0\n",
    "    for idx,x in enumerate(tickers):\n",
    "        initial_value += portofolio[idx]*Stocks[x].value[start]\n",
    "    end_value = 0\n",
    "    for idx,x in enumerate(tickers):\n",
    "        end_value += portofolio[idx]*Stocks[x].value[end]\n",
    "    return (end_value - initial_value)/initial_value\n"
   ]
  },
  {
   "cell_type": "markdown",
   "metadata": {},
   "source": [
    "# Portofolio investment experiment"
   ]
  },
  {
   "cell_type": "code",
   "execution_count": null,
   "metadata": {},
   "outputs": [
    {
     "name": "stdout",
     "output_type": "stream",
     "text": [
      "499\n",
      "529\n",
      "559\n",
      "589\n",
      "619\n",
      "649\n",
      "679\n",
      "709\n",
      "739\n",
      "769\n",
      "799\n",
      "829\n",
      "859\n",
      "889\n",
      "919\n"
     ]
    }
   ],
   "source": [
    "time = init_period - 1\n",
    "window = 0\n",
    "if step_size == 0:\n",
    "    window = 7\n",
    "elif step_size == 1:\n",
    "    window = 15\n",
    "elif step_size == 2:\n",
    "    window = 30\n",
    "\n",
    "n_simuls = 1000\n",
    "portfolio_performance = []\n",
    "while time <= max_time - window:\n",
    "    \n",
    "    print(time)\n",
    "    stock_returns = np.empty((len(tickers),n_simuls))\n",
    "    for i in range(n_simuls):\n",
    "        market_simulation = Market.simulate_market(window)\n",
    "        for idx,x in enumerate(tickers):\n",
    "            stock_returns[idx][i] = (Stocks[x].simulate_stock_price(market_simulation, window) - Stocks[x].state)/Stocks[x].state\n",
    "    #opt_portfolio = optimal_portfolio(np.mean(stock_returns,axis=1), estimate_cov_matrix(stock_returns,init_period,time-init_period+1))\n",
    "    #opt_portfolio = optimal_portfolio2(np.mean(stock_returns,axis=1))\n",
    "    opt_portfolio = optimal_portfolio3(np.mean(stock_returns,axis=1), estimate_cov_matrix(stock_returns,init_period,time-init_period+1))\n",
    "\n",
    "    portfolio_performance.append(evaluate_portfolio(opt_portfolio,time, time+window))\n",
    "    time += window\n",
    "    for x in tickers:\n",
    "        Stocks[x].set_state(Stocks[x].value[time])\n",
    "\n",
    "file_name = 'performance_' + str(window) + '.csv'\n",
    "with open(file_name, 'w') as outFile:\n",
    "    writer = csv.writer(outFile)\n",
    "    for x in portfolio_performance:\n",
    "        writer.writerow([x])\n",
    "\n",
    "        "
   ]
  },
  {
   "cell_type": "code",
   "execution_count": 77,
   "metadata": {},
   "outputs": [
    {
     "data": {
      "text/plain": [
       "[<matplotlib.lines.Line2D at 0x7feea533aeb8>]"
      ]
     },
     "execution_count": 77,
     "metadata": {},
     "output_type": "execute_result"
    },
    {
     "data": {
      "image/png": "[encoded data removed]",
      "text/plain": [
       "<Figure size 432x288 with 1 Axes>"
      ]
     },
     "metadata": {
      "needs_background": "light"
     },
     "output_type": "display_data"
    }
   ],
   "source": [
    "import matplotlib.pyplot as plt\n",
    "plt.plot(portfolio_performance)"
   ]
  },
  {
   "cell_type": "code",
   "execution_count": 52,
   "metadata": {},
   "outputs": [
    {
     "data": {
      "text/plain": [
       "100"
      ]
     },
     "execution_count": 52,
     "metadata": {},
     "output_type": "execute_result"
    }
   ],
   "source": []
  },
  {
   "cell_type": "code",
   "execution_count": null,
   "metadata": {},
   "outputs": [],
   "source": []
  }
 ],
 "metadata": {
  "kernelspec": {
   "display_name": "Python 3",
   "language": "python",
   "name": "python3"
  },
  "language_info": {
   "codemirror_mode": {
    "name": "ipython",
    "version": 3
   },
   "file_extension": ".py",
   "mimetype": "text/x-python",
   "name": "python",
   "nbconvert_exporter": "python",
   "pygments_lexer": "ipython3",
   "version": "3.7.2"
  }
 },
 "nbformat": 4,
 "nbformat_minor": 2
}
