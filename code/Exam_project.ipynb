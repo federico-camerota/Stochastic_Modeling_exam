{
 "cells": [
  {
   "cell_type": "code",
   "execution_count": 1,
   "metadata": {},
   "outputs": [],
   "source": [
    "import csv\n",
    "import numpy as np\n",
    "import random as rnd\n",
    "import copy as cp\n",
    "import matplotlib.pyplot as plt"
   ]
  },
  {
   "cell_type": "markdown",
   "metadata": {},
   "source": [
    "# Market chain class"
   ]
  },
  {
   "cell_type": "code",
   "execution_count": 2,
   "metadata": {},
   "outputs": [],
   "source": [
    "class Market_MC:\n",
    "    def __init__(self, filepath, gap = 0, end = float(\"inf\"), col = 1):\n",
    "        self.filepath = filepath\n",
    "        values = []\n",
    "        #Read the market daily prices form given file\n",
    "        with open(filepath) as csvData:\n",
    "            csvReader = csv.reader(csvData)\n",
    "            i = 0\n",
    "            for row in csvReader:\n",
    "                if i >= gap and i <= end:\n",
    "                    values.append(float(row[col]))\n",
    "                i += 1\n",
    "        \n",
    "        self.value = np.array(values)\n",
    "        \n",
    "    def update_params(self, period, start = 0):\n",
    "    \n",
    "        movement = self.value[start + 1:(start + period)] >= self.value[start :(start + period-1)]\n",
    "        #Compute transition probabilities\n",
    "        b_t_b = np.sum(~(movement[1:] | movement[0:-1]))/np.sum(~movement[0:-1])\n",
    "        g_t_g = np.sum((movement[1:] & movement[0:-1]))/np.sum(movement[0:-1])\n",
    "        self.probs = np.array([b_t_b,1-b_t_b,1-g_t_g,g_t_g]).reshape((2,2))\n",
    "        #Update market state\n",
    "        self.state = 1 if movement[-1] else 0\n",
    "        \n",
    "        return movement\n",
    "        \n",
    "    def simulate_market(self, length):\n",
    "        #Sample lenght random numbers in (0,1)\n",
    "        rnd_vals = [rnd.uniform(0,1) for i in range(length)]\n",
    "        new_state = 1\n",
    "        if rnd_vals[0] < self.probs[self.state][0]:\n",
    "            new_state = 0\n",
    "        market_states = [new_state]\n",
    "    \n",
    "        for idx, x in enumerate(rnd_vals[1:]):\n",
    "            #update market state\n",
    "            new_state = 1\n",
    "            if x < self.probs[market_states[idx]][0]:\n",
    "                new_state = 0\n",
    "            market_states.append(new_state)\n",
    "        \n",
    "        return np.array(market_states)\n",
    "\n",
    "    def set_state(self, state):\n",
    "        self.state = state"
   ]
  },
  {
   "cell_type": "markdown",
   "metadata": {},
   "source": [
    "# Stock chain class"
   ]
  },
  {
   "cell_type": "code",
   "execution_count": 3,
   "metadata": {},
   "outputs": [],
   "source": [
    "class Stock_MC:\n",
    "    \n",
    "    def __init__(self, filepath, gap = 0, end = float(\"inf\"), col = 1):\n",
    "        self.filepath = filepath\n",
    "        values = []\n",
    "        #Read the stock daily prices form given file\n",
    "        with open(filepath) as csvData:\n",
    "            csvReader = csv.reader(csvData)\n",
    "            i = 0\n",
    "            for row in csvReader:\n",
    "                if i >= gap and i <= end:\n",
    "                    values.append(float(row[col]))\n",
    "                i += 1\n",
    "        \n",
    "        self.value = np.array(values)\n",
    "        \n",
    "    def update_params(self, market_movement, period, start = 0, delta_type = 0):\n",
    "    \n",
    "        \n",
    "        ups = self.value[start + 1:(start + period)] >= self.value[start :(start + period-1)]\n",
    "        #Compute transition probabilities\n",
    "        \n",
    "        #Probabilities for bad market \n",
    "        up_b = np.sum(ups[1:] & ~market_movement[1:])/np.sum(~market_movement[1:])\n",
    "        #Probabilities for good market\n",
    "        up_g = np.sum(ups[1:] & market_movement[1:])/np.sum(market_movement[1:])\n",
    "        self.probs = np.array([1-up_b, up_b, 1-up_g, up_g]).reshape((2,2))\n",
    "        #Update stock state\n",
    "        self.state = self.value[start + period - 1]\n",
    "        #Update stock delta parameter\n",
    "        if delta_type == 0:\n",
    "                #Use mean variation as delta\n",
    "                #diffs = np.absolute(self.value[start + 1:(start + period)] - self.value[start :(start + period-1)])\n",
    "                diffs = np.absolute(self.value[start + 2:(start + period)] - self.value[start + 1 :(start + period-1)])\n",
    "                self.delta = np.array([np.mean(diffs[~market_movement[1:]]), np.mean(diffs[market_movement[1:]])])\n",
    "        elif delta_type == 1:\n",
    "                #Use median variation as delta\n",
    "                diffs = np.absolute(self.value[start + 2:(start + period)] - self.value[start + 1 :(start + period-1)])\n",
    "                self.delta = np.array([np.median(diffs[~market_movement[1:]]), np.median(diffs[market_movement[1:]])])\n",
    "                #self.delta = np.median(np.absolute(self.value[start + 1:(start + period)] - self.value[start :(start + period-1)]))\n",
    "        elif delta_type == 2:\n",
    "                #Use minimum 0.1 percentile as delta\n",
    "                diffs = np.absolute(self.value[start + 2:(start + period)] - self.value[start + 1 :(start + period-1)])\n",
    "                self.delta = np.array([np.quantile(diffs[~market_movement[1:]],0.1), np.quantile(diffs[market_movement[1:]], 0.1)])\n",
    "                #self.delta = np.quantile(np.absolute(self.value[start + 1:(start + period)] - self.value[start :(start + period-1)]),0.1)\n",
    "        \n",
    "        \n",
    "    def simulate_stock_trajectory(self, market_state, length):\n",
    "        #Sample lenght random numbers in (0,1)\n",
    "        rnd_vals = [rnd.uniform(0,1) for i in range(length)]\n",
    "        stock_states = [(self.state - self.delta[market_state[0]]) if (rnd_vals[0] <= self.probs[market_state[0]][0]) else (self.state + self.delta[market_state[0]])]\n",
    "            \n",
    "        for idx, x in enumerate(rnd_vals[1:]):\n",
    "            #update stock state\n",
    "            if x <= self.probs[market_state[idx+1]][0]:\n",
    "                stock_states.append(stock_states[idx] - self.delta[market_state[idx]])\n",
    "            else:                           \n",
    "                stock_states.append(stock_states[idx] + self.delta[market_state[idx]])\n",
    "\n",
    "            \n",
    "        return np.array(stock_states)\n",
    "    \n",
    "    def simulate_stock_price(self, market_state, length):\n",
    "        #Sample lenght random numbers in (0,1)\n",
    "        rnd_vals = [rnd.uniform(0,1) for i in range(length)]\n",
    "        end_value = cp.copy(self.state)\n",
    "        for idx, x in enumerate(rnd_vals):\n",
    "            #update stock state\n",
    "            if x <= self.probs[market_state[idx]][0]:\n",
    "                end_value -= self.delta[market_state[idx]]\n",
    "            else:\n",
    "                end_value += self.delta[market_state[idx]]\n",
    "                \n",
    "        return end_value\n",
    "        \n",
    "    def set_state(self, state):\n",
    "        self.state = state"
   ]
  },
  {
   "cell_type": "code",
   "execution_count": 4,
   "metadata": {},
   "outputs": [],
   "source": [
    "from scipy.stats import truncnorm\n",
    "class Stock_MC2:\n",
    "    \n",
    "    def __init__(self, filepath, gap = 0, end = float(\"inf\"), col = 1):\n",
    "        self.filepath = filepath\n",
    "        values = []\n",
    "        #Read the stock daily prices form given file\n",
    "        with open(filepath) as csvData:\n",
    "            csvReader = csv.reader(csvData)\n",
    "            i = 0\n",
    "            for row in csvReader:\n",
    "                if i >= gap and i <= end:\n",
    "                    values.append(float(row[col]))\n",
    "                i += 1\n",
    "        \n",
    "        self.value = np.array(values)\n",
    "        \n",
    "    def update_params(self, market_movement, period, start = 0, delta_type = 0):\n",
    "    \n",
    "        #Estimate variation parameters\n",
    "        bad_market = ~market_movement\n",
    "        good_market = market_movement\n",
    "        \n",
    "        price_diff = self.value[start+1:start+period] - self.value[start:start+period-1]\n",
    "        self.good_mean = np.mean(price_diff[good_market])\n",
    "        self.good_std = np.std(price_diff[good_market])\n",
    "        self.bad_mean = np.mean(price_diff[bad_market])\n",
    "        self.bad_std = np.std(price_diff[bad_market])\n",
    "        #Update state\n",
    "        self.state = self.value[start + period - 1]\n",
    "        \n",
    "        \n",
    "    def simulate_stock_trajectory(self, market_state, length):\n",
    "        stock_states = []\n",
    "        if market_state[0] == 0:\n",
    "            stock_states.append(self.state + np.random.normal(self.bad_mean, self.bad_std))#np.random.normal(0, self.bad_std))\n",
    "        else:                           \n",
    "            stock_states.append(self.state + np.random.normal(self.good_mean, self.good_std))#np.random.normal(0, self.good_std))\n",
    "            \n",
    "        for idx in range(length-1):\n",
    "            #update stock state\n",
    "            if market_state[idx] == 0:\n",
    "                stock_states.append(self.state + np.random.normal(self.bad_mean, self.bad_std))#np.random.normal(0, self.bad_std))\n",
    "            else:                           \n",
    "                stock_states.append(self.state + np.random.normal(self.good_mean, self.good_std))#np.random.normal(0, self.good_std))\n",
    "\n",
    "            \n",
    "        return np.array(stock_states)\n",
    "    \n",
    "    def simulate_stock_price(self, market_state, length):\n",
    "        #Sample lenght random numbers in (0,1)\n",
    "        end_value = cp.copy(self.state)\n",
    "        for idx in range(length):\n",
    "            if market_state[idx] == 0:\n",
    "                end_value += np.random.normal(self.bad_mean, self.bad_std)#np.random.normal(0, self.bad_std)\n",
    "            else:                           \n",
    "                end_value += np.random.normal(self.good_mean, self.good_std)#np.random.normal(0, self.good_std)\n",
    "                \n",
    "        return end_value\n",
    "        \n",
    "    def set_state(self, state):\n",
    "        self.state = state"
   ]
  },
  {
   "cell_type": "markdown",
   "metadata": {},
   "source": [
    "# Utility functions"
   ]
  },
  {
   "cell_type": "code",
   "execution_count": 23,
   "metadata": {},
   "outputs": [],
   "source": [
    "''' S&P500 tickers\n",
    "tickers = [\"MMM\"  , \"ABT\"  , \"ABBV\" , \"ACN\" ,  \"ATVI\" , \"AYI\"  , \"ADBE\" , \"AMD\"  , \"AAP\"  , \"AES\"  , \"AET\"  , \"AMG\"  , \"AFL\"  , \"A\"   ,   \n",
    "\"APD\"  , \"AKAM\" , \"ALK\"  , \"ALB\" ,  \"ARE\"  , \"ALXN\" , \"ALGN\"  , \"AGN\"  , \"ADS\"  , \"LNT\"  , \"ALL\"  , \"GOOGL\", \n",
    "\"MO\"   , \"AEE\"  , \"AAL\"  , \"AEP\" ,  \"AXP\"  , \"AIG\"  , \"AMT\"  , \"AWK\"  , \"AMP\"  , \"ABC\"  , \"AME\"  , \"AMGN\" , \"APH\"  , \"APC\" , \n",
    "\"ADI\"  , \"ANDV\" , \"ANSS\" , \"ANTM\",  \"AON\"  , \"APA\"  , \"AIV\"  , \"AAPL\" , \"AMAT\" , \"ADM\"  , \"ARNC\" , \"AJG\"  , \"AIZ\" , \n",
    "\"T\"    , \"ADSK\" , \"ADP\"  , \"AZO\" ,  \"AVB\"  , \"AVY\"  , \"BLL\"  , \"BAC\"  , \"BBT\"  , \"BDX\"  , \"BRK.B\", \"BBY\"  , \"BLK\" , \n",
    "\"HRB\"  , \"BA\"   , \"BWA\"  , \"BXP\" ,  \"BSX\"  , \"AVGO\" , \"BF.B\" , \"CHRW\" , \"CA\"   , \"COG\"  , \"CDNS\" , \"CPB\" , \n",
    "\"COF\"  , \"CAH\"  , \"CBOE\" , \"KMX\" ,  \"CAT\"  , \"CBG\"  , \"CBS\"  , \"CELG\" , \"CNC\"  , \"CNP\"  , \"CTL\"  , \"CERN\" , \"CF\"   , \"SCHW\", \n",
    "\"CHTR\" , \"CHK\"  , \"CVX\"  , \"CMG\" ,  \"CB\"   , \"CHD\"  , \"CI\"   , \"XEC\"  , \"CINF\" , \"CTAS\" , \"CSCO\" , \"C\"    , \"CTXS\" , \"CLX\" , \n",
    "\"CME\"  , \"KO\"   , \"CTSH\" , \"CL\"  ,  \"CMCSA\", \"CMA\"  , \"CAG\"  , \"CXO\"  , \"COP\"  , \"ED\"   , \"STZ\"  , \"COO\"  , \"GLW\"  , \"COST\", \n",
    "\"CCI\"  , \"CSX\"  , \"CMI\" ,  \"CVS\"  , \"DHI\"  , \"DRI\"  , \"DVA\"  , \"DE\"   , \"DAL\"  , \"XRAY\" , \"DVN\"  , \"DLR\" , \n",
    "\"DFS\"  , \"DISCA\", \"DG\"   , \"DLTR\",  \"D\"    , \"DOV\"  , \"DPS\"  , \"DTE\"  , \"DRE\"  , \"DUK\"  , \"ETFC\" , \"EMN\" , \n",
    "\"ETN\"  , \"ECL\"  , \"EIX\"  , \"EW\"  ,  \"EA\"   , \"EMR\"  , \"EOG\"  , \"EQT\"  , \"EFX\"  , \"EQIX\" , \"EQR\"  , \"ESS\"  , \"EL\"  , \n",
    "\"RE\"   , \"EXC\"  , \"EXPE\",  \"EXPD\" , \"ESRX\" , \"EXR\"  , \"XOM\"  , \"FFIV\" , \"FB\"   , \"FAST\" , \"FRT\"  , \"FDX\"  , \"FE\"  , \n",
    "\"FISV\" , \"FLS\"  , \"FLR\"  , \"FMC\" ,  \"FL\"   , \"F\"    , \"FBHS\" , \"FCX\"  , \"GPS\"  , \"GRMN\" , \"IT\"   , \"GD\"   , \"GE\"  , \n",
    "\"GGP\"  , \"GIS\"  , \"GM\"   , \"GPC\" ,  \"GILD\" , \"GPN\"  , \"GS\"   , \"GT\"   , \"GWW\"  , \"HAL\"  , \"HBI\"  , \"HOG\"  , \"HRS\"  , \"HAS\" , \n",
    "\"HCA\"  , \"HCP\"  , \"HP\"   , \"HES\" , \"HOLX\" , \"HD\"   , \"HON\"  , \"HRL\"  , \"HST\"  , \"HUM\"  , \"HBAN\" , \"HII\" , \n",
    "\"IDXX\" , \"ITW\"  , \"ILMN\" , \"IR\"  ,  \"INTC\" , \"IBM\"  , \"INCY\" , \"IP\"   , \"IPG\"  , \"IFF\"  , \"INTU\" , \"ISRG\" , \"IVZ\"  , \n",
    "\"IRM\"  , \"JEC\"  , \"JBHT\" , \"SJM\" ,  \"JNJ\"  , \"JCI\"  , \"JNPR\" , \"KSU\"  , \"K\"    , \"KEY\"  , \"KMB\"  , \"KIM\"  , \"KMI\"  , \"KLAC\", \n",
    "\"KSS\"  , \"KR\"   , \"LB\"  ,  \"LLL\"  , \"LH\"   , \"LRCX\" , \"LEG\"  , \"LEN\"  , \"LUK\"  , \"LLY\"  , \"LNC\"  , \"LKQ\"  , \"LMT\" , \n",
    "\"L\"    , \"LOW\"  , \"LYB\"  , \"MTB\" ,  \"MAC\"  , \"M\"    , \"MRO\"  , \"MPC\"  , \"MAR\"  , \"MMC\"  , \"MLM\"  , \"MAS\"  , \"MA\"   , \"MAT\" , \n",
    "\"MKC\"  , \"MCD\"  , \"MCK\"  , \"MDT\" ,  \"MRK\"  , \"MET\"  , \"MTD\"  , \"MGM\"  , \"KORS\" , \"MCHP\" , \"MU\"   , \"MSFT\" , \"MAA\"  , \"MHK\" , \n",
    "\"TAP\"  , \"MDLZ\" , \"MON\"  , \"MNST\",  \"MCO\"  , \"MS\"   , \"MOS\"  , \"MSI\"  , \"MYL\"  , \"NDAQ\" , \"NTAP\" , \"NFLX\" , \"NWL\" , \n",
    "\"NFX\"  , \"NEM\"  ,  \"NEE\"  , \"NLSN\" , \"NKE\"  , \"NI\"   , \"NBL\"  , \"JWN\"  , \"NSC\"  , \"NTRS\" , \"NOC\"  , \"NCLH\", \n",
    "\"NRG\"  , \"OXY\"  , \"OMC\"  ,  \"PCAR\" , \"PKG\"  , \"PH\"   , \"PDCO\" , \"PAYX\" , \"PNR\"  , \"PBCT\" , \"PEP\"  , \"PKI\" , \n",
    "\"PRGO\" , \"PFE\"  , \"PCG\"  , \"PM\"  ,  \"PSX\"  , \"PNW\"  , \"PXD\"  , \"PNC\"  , \"RL\"   , \"PPG\"  , \"PPL\"  , \"PX\"   , \"PCLN\" , \"PFG\" , \n",
    "\"PG\"   , \"PGR\"  , \"PLD\"  , \"PRU\" ,  \"PEG\"  , \"PSA\"  , \"PHM\"  , \"PVH\"  , \"PWR\"  , \"DGX\"  , \"RRC\"  , \"RJF\"  , \"RTN\"  ,\n",
    "\"RHT\"  , \"REG\"  , \"REGN\" , \"RF\"  ,  \"RSG\"  , \"RMD\"  , \"RHI\"  , \"ROK\"  , \"COL\"  , \"ROP\"  , \"ROST\" , \"RCL\"  , \"CRM\"  , \"SBAC\", \n",
    "\"SCG\"  , \"SLB\"  , \"SNI\"  , \"STX\" ,  \"SEE\"  , \"SRE\"  , \"SHW\"  , \"SIG\"  , \"SPG\"  , \"SWKS\" , \"SLG\"  , \"SNA\"  , \"SO\"   , \"LUV\" , \n",
    "\"SPGI\" , \"SWK\"  , \"SBUX\" , \"STT\" ,  \"SRCL\" , \"SYK\"  , \"STI\"  , \"SNPS\" , \"SYY\"  , \"TROW\" , \"TPR\"  , \"TGT\"  , \"TEL\" , \n",
    "\"FTI\"  , \"TXN\"  , \"TXT\"  , \"TMO\" ,  \"TIF\"  , \"TWX\"  , \"TJX\"  , \"TMK\"  , \"TSS\"  , \"TSCO\" , \"TDG\"  , \"TRV\"  , \"TRIP\" , \n",
    "\"UDR\"  , \"ULTA\" , \"USB\" ,  \"UAA\"  , \"UNP\"  , \"UAL\"  , \"UNH\"  , \"UPS\"  , \"URI\"  , \"UTX\"  , \"UHS\"  , \"UNM\" , \n",
    "\"VFC\"  , \"VLO\"  , \"VAR\"  , \"VTR\" ,  \"VRSN\" , \"VRSK\" , \"VZ\"   , \"VRTX\" , \"VIAB\" , \"V\"    , \"VNO\"  , \"VMC\"  , \"WMT\"  , \"WBA\" , \n",
    "\"DIS\"  , \"WM\"   , \"WAT\"  , \"WFC\" ,  \"HCN\"  , \"WDC\"  , \"WY\"   , \"WHR\"  , \"WMB\"  , \"WYN\"  , \"WYNN\" , \"XEL\" , \n",
    "\"XRX\"  , \"XLNX\" , \"XL\"   , \"XYL\" ,  \"YUM\"  , \"ZBH\"  , \"ZION\" , \"ZTS\"]\n",
    "'''\n",
    "''' NYSE tickers'''\n",
    "tickers = [\"A\"    , \"AAL\"  , \"AAP\"  , \"AAPL\" , \"ABC\"  , \"ABT\" ,  \"ACN\"  , \"ADBE\" , \"ADI\"  , \"ADM\"  , \"ADP\"  , \"ADS\"  , \"ADSK\" , \"AEE\" , \n",
    "\"AEP\"  , \"AES\"  , \"AET\"  , \"AFL\"  , \"AGN\"  , \"AIG\" ,  \"AIV\"  , \"AIZ\"  , \"AJG\"  , \"AKAM\" , \"ALB\"  , \"ALK\"  , \"ALL\"  , \"ALXN\" ,\n",
    "\"AMAT\" , \"AME\"  , \"AMG\"  , \"AMGN\" , \"AMP\"  , \"AMT\" ,  \"AMZN\" , \"AN\"   , \"ANTM\" , \"AON\"  , \"APA\"  , \"APC\"  , \"APD\"  , \"APH\"  ,\n",
    "\"ARNC\" , \"ATVI\" , \"AVB\"  , \"AVGO\" , \"AVY\"  , \"AWK\" ,  \"AXP\"  , \"AYI\"  , \"AZO\"  , \"BA\"   , \"BAC\"  , \"BAX\"  , \"BBBY\" , \"BBT\"  ,\n",
    "\"BBY\"  , \"BCR\"  , \"BDX\"  , \"BEN\"  , \"BHI\"  , \"BIIB\",  \"BK\"   , \"BLK\"  , \"BLL\"  , \"BMY\"  , \"BSX\"  , \"BWA\"  , \"BXP\"  , \"C\"    ,   \n",
    "\"CA\"   , \"CAG\"  , \"CAH\"  , \"CAT\"  , \"CB\"   , \"CBG\" ,  \"CBS\"  , \"CCI\"  , \"CCL\"  , \"CELG\" , \"CERN\" , \"CF\"   , \"CHD\"  , \"CHK\"  ,\n",
    "\"CHRW\" , \"CI\"   , \"CINF\" , \"CL\"   , \"CLX\"  , \"CMA\" ,  \"CMCSA\", \"CME\"  , \"CMG\"  , \"CMI\"  , \"CMS\"  , \"CNC\"  , \"CNP\"  , \"COF\"  ,\n",
    "\"COG\"  , \"COH\"  , \"COL\"  , \"COO\"  , \"COP\"  , \"COST\",  \"CPB\"  , \"CRM\"  , \"CSCO\" , \"CSX\"  , \"CTAS\" , \"CTL\"  , \"CTSH\" , \"CTXS\" ,\n",
    "\"CVS\"  , \"CVX\"  , \"CXO\"  , \"D\"    , \"DAL\"  , \"DD\"  ,  \"DE\"   , \"DFS\"  , \"DG\"   , \"DGX\"  , \"DHI\"  , \"DHR\"  , \"DIS\"  , \"DISCA\",\n",
    "\"DISCK\", \"DLR\"  , \"DLTR\" , \"DNB\"  , \"DOV\"  , \"DOW\" ,  \"DPS\"  , \"DRI\"  , \"DTE\"  , \"DUK\"  , \"DVA\"  , \"DVN\"  , \"EA\"   , \"EBAY\" ,\n",
    "\"ECL\"  , \"ED\"   , \"EFX\"  , \"EIX\"  , \"EL\"   , \"EMN\" ,  \"EMR\"  , \"ENDP\" , \"EOG\"  , \"EQIX\" , \"EQR\"  , \"EQT\"  , \"ES\"   , \"ESRX\" ,\n",
    "\"ESS\"  , \"ETFC\" , \"ETN\"  , \"ETR\"  , \"EW\"   , \"EXC\" ,  \"EXPD\" , \"EXPE\" , \"EXR\"  , \"F\"    , \"FAST\" , \"FCX\"  , \"FDX\"  , \"FE\"   ,   \n",
    "\"FFIV\" , \"FIS\"  , \"FISV\" , \"FITB\" , \"FL\"   , \"FLIR\",  \"FLR\"  , \"FLS\"  , \"FMC\"  , \"FOX\"  , \"FOXA\" , \"FRT\"  , \"FSLR\" , \"FTI\"  ,\n",
    "\"FTR\"  , \"GD\"   , \"GE\"   , \"GGP\"  , \"GILD\" , \"GIS\" ,  \"GLW\"  , \"GOOG\" , \"GOOGL\", \"GPC\"  , \"GPN\"  , \"GPS\"  , \"GRMN\" , \"GS\"   ,   \n",
    "\"GT\"   , \"GWW\"  , \"HAL\"  , \"HAR\"  , \"HAS\"  , \"HBAN\",  \"HBI\"  , \"HCN\"  , \"HCP\"  , \"HD\"   , \"HES\"  , \"HIG\"  , \"HOG\"  , \"HOLX\" ,\n",
    "\"HON\"  , \"HP\"   , \"HPQ\"  , \"HRB\"  , \"HRL\"  , \"HRS\" ,  \"HSIC\" , \"HST\"  , \"HSY\"  , \"HUM\"  , \"IBM\"  , \"ICE\"  , \"IDXX\" , \"IFF\"  ,\n",
    "\"ILMN\" , \"INTC\" , \"INTU\" , \"IP\"   , \"IPG\"  , \"IR\"  ,  \"IRM\"  , \"ISRG\" , \"ITW\"  , \"IVZ\"  , \"JBHT\" , \"JCI\"  , \"JEC\"  , \"JNJ\"  ,\n",
    "\"JNPR\" , \"JPM\"  , \"JWN\"  , \"K\"    , \"KEY\"  , \"KIM\" ,  \"KLAC\" , \"KMB\"  , \"KMX\"  , \"KO\"   , \"KR\"   , \"KSS\"  , \"KSU\"  , \"L\"    ,   \n",
    "\"LB\"   , \"LEG\"  , \"LEN\"  , \"LH\"   , \"LKQ\"  , \"LLL\" ,  \"LLTC\" , \"LLY\"  , \"LMT\"  , \"LNC\"  , \"LNT\"  , \"LOW\"  , \"LRCX\" , \"LUK\"  ,\n",
    "\"LUV\"  , \"LVLT\" , \"M\"    , \"MA\"   , \"MAA\"  , \"MAC\" ,  \"MAR\"  , \"MAS\"  , \"MAT\"  , \"MCD\"  , \"MCHP\" , \"MCK\"  , \"MCO\"  , \"MDLZ\" ,\n",
    "\"MDT\"  , \"MET\"  , \"MHK\"  , \"MJN\"  , \"MKC\"  , \"MLM\" ,  \"MMC\"  , \"MMM\"  , \"MNST\" , \"MO\"   , \"MON\"  , \"MOS\"  , \"MRK\"  , \"MRO\"  ,\n",
    "\"MSFT\" , \"MSI\"  , \"MTB\"  , \"MTD\"  , \"MU\"   , \"MUR\" ,  \"MYL\"  , \"NBL\"  , \"NDAQ\" , \"NEE\"  , \"NEM\"  , \"NFLX\" , \"NFX\"  , \"NI\"   ,   \n",
    "\"NKE\"  , \"NOC\"  , \"NOV\"  , \"NRG\"  , \"NSC\"  , \"NTAP\",  \"NTRS\" , \"NUE\"  , \"NVDA\" , \"NWL\"  , \"O\"    , \"OKE\"  , \"OMC\"  , \"ORCL\" ,\n",
    "\"ORLY\" , \"OXY\"  , \"PAYX\" , \"PBCT\" , \"PBI\"  , \"PCAR\",  \"PCG\"  , \"PCLN\" , \"PDCO\" , \"PEG\"  , \"PEP\"  , \"PFE\"  , \"PFG\"  , \"PG\"   ,   \n",
    "\"PGR\"  , \"PH\"   , \"PHM\"  , \"PKI\"  , \"PLD\"  , \"PM\"  ,  \"PNC\"  , \"PNR\"  , \"PNW\"  , \"PPG\"  , \"PPL\"  , \"PRGO\" , \"PRU\"  , \"PSA\"  ,\n",
    "\"PVH\"  , \"PWR\"  , \"PX\"   , \"PXD\"  , \"QCOM\" , \"R\"   ,  \"RAI\"  , \"RCL\"  , \"REGN\" , \"RF\"   , \"RHI\"  , \"RHT\"  , \"RIG\"  , \"RL\"   ,   \n",
    "\"ROK\"  , \"ROP\"  , \"ROST\" , \"RRC\"  , \"RSG\"  , \"RTN\" ,  \"SBUX\" , \"SCG\"  , \"SCHW\" , \"SE\"   , \"SEE\"  , \"SHW\"  , \"SIG\"  , \"SJM\"  ,\n",
    "\"SLB\"  , \"SLG\"  , \"SNA\"  , \"SNI\"  , \"SO\"   , \"SPG\" ,  \"SPGI\" , \"SPLS\" , \"SRCL\" , \"SRE\"  , \"STI\"  , \"STT\"  , \"STX\"  , \"STZ\"  ,\n",
    "\"SWK\"  , \"SWKS\" , \"SWN\"  , \"SYK\"  , \"SYMC\" , \"SYY\" ,  \"T\"    , \"TAP\"  , \"TDC\"  , \"TEL\"  , \"TGNA\" , \"TGT\"  , \"TIF\"  , \"TJX\"  ,\n",
    "\"TMK\"  , \"TMO\"  , \"TROW\" , \"TRV\"  , \"TSCO\" , \"TSN\" ,  \"TSO\"  , \"TSS\"  , \"TWX\"  , \"TXN\"  , \"TXT\"  , \"UAA\"  , \"UAL\"  , \"UDR\"  ,\n",
    "\"UHS\"  , \"ULTA\" , \"UNH\"  , \"UNM\"  , \"UNP\"  , \"UPS\" ,  \"URBN\" , \"URI\"  , \"USB\"  , \"UTX\"  , \"V\"    , \"VAR\"  , \"VFC\"  , \"VIAB\" ,\n",
    "\"VLO\"  , \"VMC\"  , \"VNO\"  , \"VRSK\" , \"VRSN\" , \"VRTX\",  \"VTR\"  , \"VZ\"   , \"WAT\"  , \"WBA\"  , \"WDC\"  , \"WEC\"  , \"WFC\"  , \"WFM\"  ,\n",
    "\"WHR\"  , \"WM\"   , \"WMB\"  , \"WMT\"  , \"WU\"   , \"WY\"  ,  \"WYN\"  , \"WYNN\" , \"XEC\"  , \"XEL\"  , \"XL\"   , \"XLNX\" , \"XOM\"  , \"XRAY\" ,\n",
    "\"XRX\"  , \"YHOO\" , \"YUM\"  , \"ZBH\"  , \"ZION\"]\n",
    "\n",
    "#Stocks and market MC\n",
    "data_path = './data3/'\n",
    "Stocks = {ticker : Stock_MC(data_path+ticker+'_prices.csv') for ticker in tickers}\n",
    "Market = Market_MC(data_path+'market_prices.csv')\n",
    "\n",
    "\n",
    "#Set starting time\n",
    "init_period = 200\n",
    "length = 1762 #NYSE legnth\n",
    "#length = 1259 #S&P500 length\n",
    "max_time = length - 1\n",
    "#Step size 0 = 7gg, 1 = 15gg, 2 = 30gg, 3 = 4gg\n",
    "step_size = 1\n",
    "#Type of delta parameter\n",
    "delta = 0\n",
    "\n",
    "#Initialize parameters of the market and stock chains\n",
    "market_movement = Market.update_params(init_period)\n",
    "for tick in tickers:\n",
    "    Stocks[tick].update_params(market_movement, init_period, delta_type=delta)\n"
   ]
  },
  {
   "cell_type": "code",
   "execution_count": 24,
   "metadata": {},
   "outputs": [],
   "source": [
    "\n",
    "\n",
    "import scipy.optimize as sciopt\n",
    "\n",
    "\n",
    "#Read stocks historical returns\n",
    "def read_returns():\n",
    "    rets = np.empty((len(tickers), length))\n",
    "    for idx, tick in enumerate(tickers):\n",
    "        t_rets = []\n",
    "        with open(data_path+tick+'_returns.csv') as csvFile:\n",
    "            reader = csv.reader(csvFile)\n",
    "            for row in reader:\n",
    "                t_rets.append(float(row[step_size]))\n",
    "        rets[idx] = t_rets\n",
    "    return rets\n",
    "\n",
    "Stock_returns = read_returns()\n",
    "\n",
    "def estimate_cov_matrix(rets, period, start):\n",
    "    variance = np.var(rets, axis=1)\n",
    "    correlation = np.corrcoef(Stock_returns[:,start:(start+period)])\n",
    "    return np.multiply(np.sqrt(variance.reshape((1,len(variance)))*variance.reshape((len(variance),1))),correlation)\n",
    "\n",
    "#Function to obtain the optimal portfolio\n",
    "def optimal_portfolio(e_returns, cov_mat):\n",
    "    obj = lambda x : -1*(np.dot(x,e_returns)/np.dot(x,np.dot(cov_mat,x)))\n",
    "    bound_ctr = [(0,1) for i in range(len(tickers))]\n",
    "    sum_ctr = [{'type' : 'ineq' , 'fun' : lambda x : np.sum(x) - 1}, {'type' : 'ineq' , 'fun' : lambda x : 1 - np.sum(x)}]\n",
    "    return (sciopt.minimize(obj,[np.random.random() for i in range(len(tickers))], bounds=bound_ctr , constraints=sum_ctr)).x\n",
    "#Function to obtain the optimal portfolio\n",
    "def optimal_portfolio2(e_returns):\n",
    "    obj = lambda x : -1*np.dot(x,e_returns)\n",
    "    bound_ctr = [(0,1) for i in range(len(tickers))]\n",
    "    sum_ctr = [{'type' : 'ineq' , 'fun' : lambda x : np.sum(x) - 1}, {'type' : 'ineq' , 'fun' : lambda x : 1 - np.sum(x)}]\n",
    "    return (sciopt.minimize(obj,[np.random.random() for i in range(len(tickers))], bounds=bound_ctr , constraints=sum_ctr)).x\n",
    "#Function to obtain the optimal portfolio\n",
    "def optimal_portfolio3(e_returns, cov_mat):\n",
    "    obj = lambda x : -1*np.dot(x,e_returns)+np.dot(x,np.dot(cov_mat,x))\n",
    "    bound_ctr = [(0,1) for i in range(len(tickers))]\n",
    "    sum_ctr = [{'type' : 'ineq' , 'fun' : lambda x : np.sum(x) - 1}, {'type' : 'ineq' , 'fun' : lambda x : 1 - np.sum(x)}]\n",
    "    return (sciopt.minimize(obj,[np.random.random() for i in range(len(tickers))], bounds=bound_ctr , constraints=sum_ctr)).x\n",
    "#Function to obtain the optimal portfolio\n",
    "def optimal_portfolio4(e_returns, cov_mat):\n",
    "    obj = lambda x : -1*(np.dot(x,e_returns)/1.05*np.dot(x,np.dot(cov_mat,x)))\n",
    "    bound_ctr = [(0,1) for i in range(len(tickers))]\n",
    "    sum_ctr = [{'type' : 'ineq' , 'fun' : lambda x : np.sum(x) - 1}, {'type' : 'ineq' , 'fun' : lambda x : 1 - np.sum(x)}]\n",
    "    return (sciopt.minimize(obj,[np.random.random() for i in range(len(tickers))],method=\"SLSQP\", bounds=bound_ctr , constraints=sum_ctr)).x\n",
    "\n",
    "def evaluate_portfolio(portofolio, start, end):\n",
    "    initial_value = 0\n",
    "    for idx,x in enumerate(tickers):\n",
    "        initial_value += portofolio[idx]*Stocks[x].value[start]\n",
    "    end_value = 0\n",
    "    for idx,x in enumerate(tickers):\n",
    "        end_value += portofolio[idx]*Stocks[x].value[end]\n",
    "    return (end_value - initial_value)/initial_value\n"
   ]
  },
  {
   "cell_type": "markdown",
   "metadata": {},
   "source": [
    "## DE optimization"
   ]
  },
  {
   "cell_type": "code",
   "execution_count": 25,
   "metadata": {},
   "outputs": [],
   "source": [
    "#------------------------------------------------------------------------------+\n",
    "#\n",
    "#   Nathan A. Rooy\n",
    "#   A simple, bare bones, implementation of differential evolution with Python\n",
    "#   August, 2017\n",
    "#\n",
    "#------------------------------------------------------------------------------+\n",
    "\n",
    "def ensure_bounds(vec, bounds):\n",
    "\n",
    "    vec_new = []\n",
    "    # cycle through each variable in vector \n",
    "    for i in range(len(vec)):\n",
    "\n",
    "        # variable exceedes the minimum/maximum boundary\n",
    "        if vec[i] < bounds[i][0] or vec[i] > bounds[i][1]:\n",
    "            vec_new.append(rnd.uniform(bounds[i][0],bounds[i][1]))\n",
    "        # the variable is fine\n",
    "        if bounds[i][0] <= vec[i] <= bounds[i][1]:\n",
    "            vec_new.append(vec[i])\n",
    "    vec_new = np.array(vec_new)\n",
    "    tot = np.sum(vec_new)\n",
    "    if np.sum(vec_new) != 1:\n",
    "        vec_new /= tot\n",
    "    \n",
    "    return vec_new\n",
    "\n",
    "\n",
    "#--- MAIN ---------------------------------------------------------------------+\n",
    "\n",
    "def DE(cost_func, bounds, popsize, mutate, recombination, maxiter):\n",
    "\n",
    "    #--- INITIALIZE A POPULATION (step #1) ----------------+\n",
    "    \n",
    "    population = []\n",
    "    for i in range(0,popsize):\n",
    "        indv = []\n",
    "        for j in range(len(bounds)):\n",
    "            indv.append(rnd.uniform(bounds[j][0],bounds[j][1]))\n",
    "        population.append(indv)\n",
    "            \n",
    "    #--- SOLVE --------------------------------------------+\n",
    "\n",
    "    # cycle through each generation (step #2)\n",
    "    for i in range(1,maxiter+1):\n",
    "        #print 'GENERATION:',i\n",
    "\n",
    "        gen_scores = [] # score keeping\n",
    "\n",
    "        # cycle through each individual in the population\n",
    "        for j in range(0, popsize):\n",
    "\n",
    "            #--- MUTATION (step #3.A) ---------------------+\n",
    "            \n",
    "            # select three random vector index positions [0, popsize), not including current vector (j)\n",
    "            #canidates = range(0,popsize)\n",
    "            #canidates.remove(j)\n",
    "            random_index = rnd.sample([i for i in range(0,popsize) if i != j], 3)\n",
    "\n",
    "            x_1 = population[random_index[0]]\n",
    "            x_2 = population[random_index[1]]\n",
    "            x_3 = population[random_index[2]]\n",
    "            x_t = population[j]     # target individual\n",
    "\n",
    "            # subtract x3 from x2, and create a new vector (x_diff)\n",
    "            x_diff = [x_2_i - x_3_i for x_2_i, x_3_i in zip(x_2, x_3)]\n",
    "\n",
    "            # multiply x_diff by the mutation factor (F) and add to x_1\n",
    "            v_donor = [x_1_i + mutate * x_diff_i for x_1_i, x_diff_i in zip(x_1, x_diff)]\n",
    "            v_donor = ensure_bounds(v_donor, bounds)\n",
    "\n",
    "            #--- RECOMBINATION (step #3.B) ----------------+\n",
    "\n",
    "            v_trial = []\n",
    "            for k in range(len(x_t)):\n",
    "                crossover = rnd.random()\n",
    "                if crossover <= recombination:\n",
    "                    v_trial.append(v_donor[k])\n",
    "\n",
    "                else:\n",
    "                    v_trial.append(x_t[k])\n",
    "                    \n",
    "            #--- GREEDY SELECTION (step #3.C) -------------+\n",
    "\n",
    "            score_trial  = cost_func(v_trial)\n",
    "            score_target = cost_func(x_t)\n",
    "\n",
    "            if score_trial < score_target:\n",
    "                population[j] = v_trial\n",
    "                gen_scores.append(score_trial)\n",
    "                #print '   >',score_trial, v_trial\n",
    "\n",
    "            else:\n",
    "                #print '   >',score_target, x_t\n",
    "                gen_scores.append(score_target)\n",
    "\n",
    "        #--- SCORE KEEPING --------------------------------+\n",
    "\n",
    "        gen_avg = sum(gen_scores) / popsize                         # current generation avg. fitness\n",
    "        gen_best = min(gen_scores)                                  # fitness of best individual\n",
    "        gen_sol = population[gen_scores.index(min(gen_scores))]     # solution of best individual\n",
    "\n",
    "        #print '      > GENERATION AVERAGE:',gen_avg\n",
    "        #print '      > GENERATION BEST:',gen_best\n",
    "        #print '         > BEST SOLUTION:',gen_sol,'\\n'\n",
    "\n",
    "    return np.array(gen_sol)\n",
    "\n",
    "def optimal_portfolio5(e_returns, cov_mat):\n",
    "    obj = lambda x : -1*(np.dot(x,e_returns)/1.05*np.dot(x,np.dot(cov_mat,x)))\n",
    "    bound_ctr = [(0,1) for i in range(len(tickers))]\n",
    "    mutate = 1.8                        # Mutation factor [0,2]\n",
    "    recombination = 0.7                 # Recombination rate [0,1]\n",
    "    maxiter = 100   # Max number of generations (maxiter)\n",
    "    pop_size = 2000\n",
    "    return DE(obj, bound_ctr, pop_size, mutate, recombination, maxiter )"
   ]
  },
  {
   "cell_type": "markdown",
   "metadata": {},
   "source": [
    "# Portofolio investment experiment\n",
    "We found out the best configuration is delta set to 0 and window to 15"
   ]
  },
  {
   "cell_type": "code",
   "execution_count": 26,
   "metadata": {},
   "outputs": [],
   "source": [
    "time = init_period - 1\n",
    "window = 0\n",
    "if step_size == 0:\n",
    "    window = 7\n",
    "elif step_size == 1:\n",
    "    window = 15\n",
    "elif step_size == 2:\n",
    "    window = 30\n",
    "\n",
    "n_simuls = 100"
   ]
  },
  {
   "cell_type": "markdown",
   "metadata": {},
   "source": [
    "### 1.Test on the whole data set"
   ]
  },
  {
   "cell_type": "code",
   "execution_count": 43,
   "metadata": {},
   "outputs": [
    {
     "name": "stdout",
     "output_type": "stream",
     "text": [
      "199\n",
      "214\n"
     ]
    },
    {
     "ename": "KeyboardInterrupt",
     "evalue": "",
     "output_type": "error",
     "traceback": [
      "\u001b[0;31m---------------------------------------------------------------------------\u001b[0m",
      "\u001b[0;31mKeyboardInterrupt\u001b[0m                         Traceback (most recent call last)",
      "\u001b[0;32m<ipython-input-43-8fab12d1e22a>\u001b[0m in \u001b[0;36m<module>\u001b[0;34m()\u001b[0m\n\u001b[1;32m     15\u001b[0m     \u001b[0;31m#opt_portfolio = optimal_portfolio2(np.mean(stock_returns,axis=1))\u001b[0m\u001b[0;34m\u001b[0m\u001b[0;34m\u001b[0m\u001b[0;34m\u001b[0m\u001b[0m\n\u001b[1;32m     16\u001b[0m     \u001b[0;31m#opt_portfolio = optimal_portfolio3(np.mean(stock_returns,axis=1), estimate_cov_matrix(stock_returns,init_period,time-init_period+1))\u001b[0m\u001b[0;34m\u001b[0m\u001b[0;34m\u001b[0m\u001b[0;34m\u001b[0m\u001b[0m\n\u001b[0;32m---> 17\u001b[0;31m     \u001b[0mopt_portfolio\u001b[0m \u001b[0;34m=\u001b[0m \u001b[0moptimal_portfolio4\u001b[0m\u001b[0;34m(\u001b[0m\u001b[0mnp\u001b[0m\u001b[0;34m.\u001b[0m\u001b[0mmean\u001b[0m\u001b[0;34m(\u001b[0m\u001b[0mstock_returns\u001b[0m\u001b[0;34m,\u001b[0m\u001b[0maxis\u001b[0m\u001b[0;34m=\u001b[0m\u001b[0;36m1\u001b[0m\u001b[0;34m)\u001b[0m\u001b[0;34m,\u001b[0m \u001b[0mestimate_cov_matrix\u001b[0m\u001b[0;34m(\u001b[0m\u001b[0mstock_returns\u001b[0m\u001b[0;34m,\u001b[0m\u001b[0minit_period\u001b[0m\u001b[0;34m,\u001b[0m\u001b[0mtime\u001b[0m\u001b[0;34m-\u001b[0m\u001b[0minit_period\u001b[0m\u001b[0;34m+\u001b[0m\u001b[0;36m1\u001b[0m\u001b[0;34m)\u001b[0m\u001b[0;34m)\u001b[0m\u001b[0;34m\u001b[0m\u001b[0;34m\u001b[0m\u001b[0m\n\u001b[0m\u001b[1;32m     18\u001b[0m     \u001b[0;31m#opt_portfolio = optimal_portfolio5(np.mean(stock_returns,axis=1), estimate_cov_matrix(stock_returns,init_period,time-init_period+1))\u001b[0m\u001b[0;34m\u001b[0m\u001b[0;34m\u001b[0m\u001b[0;34m\u001b[0m\u001b[0m\n\u001b[1;32m     19\u001b[0m \u001b[0;34m\u001b[0m\u001b[0m\n",
      "\u001b[0;32m<ipython-input-40-6f98b57588cf>\u001b[0m in \u001b[0;36moptimal_portfolio4\u001b[0;34m(e_returns, cov_mat)\u001b[0m\n\u001b[1;32m     46\u001b[0m     \u001b[0mbound_ctr\u001b[0m \u001b[0;34m=\u001b[0m \u001b[0;34m[\u001b[0m\u001b[0;34m(\u001b[0m\u001b[0;36m0\u001b[0m\u001b[0;34m,\u001b[0m\u001b[0;36m1\u001b[0m\u001b[0;34m)\u001b[0m \u001b[0;32mfor\u001b[0m \u001b[0mi\u001b[0m \u001b[0;32min\u001b[0m \u001b[0mrange\u001b[0m\u001b[0;34m(\u001b[0m\u001b[0mlen\u001b[0m\u001b[0;34m(\u001b[0m\u001b[0mtickers\u001b[0m\u001b[0;34m)\u001b[0m\u001b[0;34m)\u001b[0m\u001b[0;34m]\u001b[0m\u001b[0;34m\u001b[0m\u001b[0;34m\u001b[0m\u001b[0m\n\u001b[1;32m     47\u001b[0m     \u001b[0msum_ctr\u001b[0m \u001b[0;34m=\u001b[0m \u001b[0;34m[\u001b[0m\u001b[0;34m{\u001b[0m\u001b[0;34m'type'\u001b[0m \u001b[0;34m:\u001b[0m \u001b[0;34m'ineq'\u001b[0m \u001b[0;34m,\u001b[0m \u001b[0;34m'fun'\u001b[0m \u001b[0;34m:\u001b[0m \u001b[0;32mlambda\u001b[0m \u001b[0mx\u001b[0m \u001b[0;34m:\u001b[0m \u001b[0mnp\u001b[0m\u001b[0;34m.\u001b[0m\u001b[0msum\u001b[0m\u001b[0;34m(\u001b[0m\u001b[0mx\u001b[0m\u001b[0;34m)\u001b[0m \u001b[0;34m-\u001b[0m \u001b[0;36m1\u001b[0m\u001b[0;34m}\u001b[0m\u001b[0;34m,\u001b[0m \u001b[0;34m{\u001b[0m\u001b[0;34m'type'\u001b[0m \u001b[0;34m:\u001b[0m \u001b[0;34m'ineq'\u001b[0m \u001b[0;34m,\u001b[0m \u001b[0;34m'fun'\u001b[0m \u001b[0;34m:\u001b[0m \u001b[0;32mlambda\u001b[0m \u001b[0mx\u001b[0m \u001b[0;34m:\u001b[0m \u001b[0;36m1\u001b[0m \u001b[0;34m-\u001b[0m \u001b[0mnp\u001b[0m\u001b[0;34m.\u001b[0m\u001b[0msum\u001b[0m\u001b[0;34m(\u001b[0m\u001b[0mx\u001b[0m\u001b[0;34m)\u001b[0m\u001b[0;34m}\u001b[0m\u001b[0;34m]\u001b[0m\u001b[0;34m\u001b[0m\u001b[0;34m\u001b[0m\u001b[0m\n\u001b[0;32m---> 48\u001b[0;31m     \u001b[0;32mreturn\u001b[0m \u001b[0;34m(\u001b[0m\u001b[0msciopt\u001b[0m\u001b[0;34m.\u001b[0m\u001b[0mminimize\u001b[0m\u001b[0;34m(\u001b[0m\u001b[0mobj\u001b[0m\u001b[0;34m,\u001b[0m\u001b[0;34m[\u001b[0m\u001b[0mnp\u001b[0m\u001b[0;34m.\u001b[0m\u001b[0mrandom\u001b[0m\u001b[0;34m.\u001b[0m\u001b[0mrandom\u001b[0m\u001b[0;34m(\u001b[0m\u001b[0;34m)\u001b[0m \u001b[0;32mfor\u001b[0m \u001b[0mi\u001b[0m \u001b[0;32min\u001b[0m \u001b[0mrange\u001b[0m\u001b[0;34m(\u001b[0m\u001b[0mlen\u001b[0m\u001b[0;34m(\u001b[0m\u001b[0mtickers\u001b[0m\u001b[0;34m)\u001b[0m\u001b[0;34m)\u001b[0m\u001b[0;34m]\u001b[0m\u001b[0;34m,\u001b[0m\u001b[0mmethod\u001b[0m\u001b[0;34m=\u001b[0m\u001b[0;34m\"SLSQP\"\u001b[0m\u001b[0;34m,\u001b[0m \u001b[0mbounds\u001b[0m\u001b[0;34m=\u001b[0m\u001b[0mbound_ctr\u001b[0m \u001b[0;34m,\u001b[0m \u001b[0mconstraints\u001b[0m\u001b[0;34m=\u001b[0m\u001b[0msum_ctr\u001b[0m\u001b[0;34m)\u001b[0m\u001b[0;34m)\u001b[0m\u001b[0;34m.\u001b[0m\u001b[0mx\u001b[0m\u001b[0;34m\u001b[0m\u001b[0;34m\u001b[0m\u001b[0m\n\u001b[0m\u001b[1;32m     49\u001b[0m \u001b[0;34m\u001b[0m\u001b[0m\n\u001b[1;32m     50\u001b[0m \u001b[0;32mdef\u001b[0m \u001b[0mevaluate_portfolio\u001b[0m\u001b[0;34m(\u001b[0m\u001b[0mportofolio\u001b[0m\u001b[0;34m,\u001b[0m \u001b[0mstart\u001b[0m\u001b[0;34m,\u001b[0m \u001b[0mend\u001b[0m\u001b[0;34m)\u001b[0m\u001b[0;34m:\u001b[0m\u001b[0;34m\u001b[0m\u001b[0;34m\u001b[0m\u001b[0m\n",
      "\u001b[0;32m~/anaconda3/lib/python3.7/site-packages/scipy/optimize/_minimize.py\u001b[0m in \u001b[0;36mminimize\u001b[0;34m(fun, x0, args, method, jac, hess, hessp, bounds, constraints, tol, callback, options)\u001b[0m\n\u001b[1;32m    609\u001b[0m     \u001b[0;32melif\u001b[0m \u001b[0mmeth\u001b[0m \u001b[0;34m==\u001b[0m \u001b[0;34m'slsqp'\u001b[0m\u001b[0;34m:\u001b[0m\u001b[0;34m\u001b[0m\u001b[0;34m\u001b[0m\u001b[0m\n\u001b[1;32m    610\u001b[0m         return _minimize_slsqp(fun, x0, args, jac, bounds,\n\u001b[0;32m--> 611\u001b[0;31m                                constraints, callback=callback, **options)\n\u001b[0m\u001b[1;32m    612\u001b[0m     \u001b[0;32melif\u001b[0m \u001b[0mmeth\u001b[0m \u001b[0;34m==\u001b[0m \u001b[0;34m'trust-constr'\u001b[0m\u001b[0;34m:\u001b[0m\u001b[0;34m\u001b[0m\u001b[0;34m\u001b[0m\u001b[0m\n\u001b[1;32m    613\u001b[0m         return _minimize_trustregion_constr(fun, x0, args, jac, hess, hessp,\n",
      "\u001b[0;32m~/anaconda3/lib/python3.7/site-packages/scipy/optimize/slsqp.py\u001b[0m in \u001b[0;36m_minimize_slsqp\u001b[0;34m(func, x0, args, jac, bounds, constraints, maxiter, ftol, iprint, disp, eps, callback, **unknown_options)\u001b[0m\n\u001b[1;32m    424\u001b[0m \u001b[0;34m\u001b[0m\u001b[0m\n\u001b[1;32m    425\u001b[0m         \u001b[0;31m# Call SLSQP\u001b[0m\u001b[0;34m\u001b[0m\u001b[0;34m\u001b[0m\u001b[0;34m\u001b[0m\u001b[0m\n\u001b[0;32m--> 426\u001b[0;31m         \u001b[0mslsqp\u001b[0m\u001b[0;34m(\u001b[0m\u001b[0mm\u001b[0m\u001b[0;34m,\u001b[0m \u001b[0mmeq\u001b[0m\u001b[0;34m,\u001b[0m \u001b[0mx\u001b[0m\u001b[0;34m,\u001b[0m \u001b[0mxl\u001b[0m\u001b[0;34m,\u001b[0m \u001b[0mxu\u001b[0m\u001b[0;34m,\u001b[0m \u001b[0mfx\u001b[0m\u001b[0;34m,\u001b[0m \u001b[0mc\u001b[0m\u001b[0;34m,\u001b[0m \u001b[0mg\u001b[0m\u001b[0;34m,\u001b[0m \u001b[0ma\u001b[0m\u001b[0;34m,\u001b[0m \u001b[0macc\u001b[0m\u001b[0;34m,\u001b[0m \u001b[0mmajiter\u001b[0m\u001b[0;34m,\u001b[0m \u001b[0mmode\u001b[0m\u001b[0;34m,\u001b[0m \u001b[0mw\u001b[0m\u001b[0;34m,\u001b[0m \u001b[0mjw\u001b[0m\u001b[0;34m)\u001b[0m\u001b[0;34m\u001b[0m\u001b[0;34m\u001b[0m\u001b[0m\n\u001b[0m\u001b[1;32m    427\u001b[0m \u001b[0;34m\u001b[0m\u001b[0m\n\u001b[1;32m    428\u001b[0m         \u001b[0;31m# call callback if major iteration has incremented\u001b[0m\u001b[0;34m\u001b[0m\u001b[0;34m\u001b[0m\u001b[0;34m\u001b[0m\u001b[0m\n",
      "\u001b[0;31mKeyboardInterrupt\u001b[0m: "
     ]
    }
   ],
   "source": [
    "\n",
    "portfolio_performance = []\n",
    "time_portfolio_performance = []\n",
    "naive_portfolio_performance = []\n",
    "\n",
    "while time <= max_time - window:\n",
    "    \n",
    "    print(time)\n",
    "    stock_returns = np.empty((len(tickers),n_simuls))\n",
    "    for i in range(n_simuls):\n",
    "        market_simulation = Market.simulate_market(window)\n",
    "        for idx,x in enumerate(tickers):\n",
    "            stock_returns[idx][i] = (Stocks[x].simulate_stock_price(market_simulation, window) - Stocks[x].state)/Stocks[x].state\n",
    "    #opt_portfolio = optimal_portfolio(np.mean(stock_returns,axis=1), estimate_cov_matrix(stock_returns,init_period,time-init_period+1))\n",
    "    #opt_portfolio = optimal_portfolio2(np.mean(stock_returns,axis=1))\n",
    "    #opt_portfolio = optimal_portfolio3(np.mean(stock_returns,axis=1), estimate_cov_matrix(stock_returns,init_period,time-init_period+1))\n",
    "    opt_portfolio = optimal_portfolio4(np.mean(stock_returns,axis=1), estimate_cov_matrix(stock_returns,init_period,time-init_period+1))\n",
    "    #opt_portfolio = optimal_portfolio5(np.mean(stock_returns,axis=1), estimate_cov_matrix(stock_returns,init_period,time-init_period+1))\n",
    "\n",
    "    portfolio_performance.append(evaluate_portfolio(opt_portfolio,time, time+window))\n",
    "    \n",
    "    time_portfolio = optimal_portfolio4(np.mean(Stock_returns[:,time-init_period+1:time],axis=1), np.cov(Stock_returns[:,time-init_period+1:time]))\n",
    "    time_portfolio_performance.append(evaluate_portfolio(time_portfolio, time, time+window))\n",
    "    \n",
    "    naive_portfolio_performance.append((Market.value[time+window] - Market.value[time])/Market.value[time])\n",
    "    \n",
    "    time += window\n",
    "    for x in tickers:\n",
    "        Stocks[x].set_state(Stocks[x].value[time])\n",
    "\n",
    "file_name = 'performance_window_' + str(window) + '_delta_' + str(delta) + '_.csv'\n",
    "with open(file_name, 'w') as outFile:\n",
    "    writer = csv.writer(outFile)\n",
    "    for x,y,z in zip(portfolio_performance, time_portfolio_performance, naive_portfolio_performance):\n",
    "        writer.writerow([x, y, z])\n",
    "\n",
    "        "
   ]
  },
  {
   "cell_type": "markdown",
   "metadata": {},
   "source": [
    "### 2. Mean/Variance test"
   ]
  },
  {
   "cell_type": "code",
   "execution_count": 13,
   "metadata": {},
   "outputs": [
    {
     "name": "stdout",
     "output_type": "stream",
     "text": [
      "Test with date 1540(0)\n",
      "Test with date 617(1)\n",
      "Test with date 1057(2)\n",
      "Test with date 1624(3)\n",
      "Test with date 1435(4)\n",
      "Test with date 426(5)\n",
      "Test with date 969(6)\n",
      "Test with date 323(7)\n",
      "Test with date 407(8)\n",
      "Test with date 740(9)\n",
      "Test with date 634(10)\n",
      "Test with date 277(11)\n",
      "Test with date 1272(12)\n",
      "Test with date 775(13)\n",
      "Test with date 719(14)\n",
      "Test with date 874(15)\n",
      "Test with date 1033(16)\n",
      "Test with date 1303(17)\n",
      "Test with date 1194(18)\n",
      "Test with date 1528(19)\n",
      "Test with date 1305(20)\n",
      "Test with date 312(21)\n",
      "Test with date 1331(22)\n",
      "Test with date 1061(23)\n",
      "Test with date 421(24)\n",
      "Test with date 1188(25)\n",
      "Test with date 1167(26)\n",
      "Test with date 613(27)\n",
      "Test with date 1423(28)\n",
      "Test with date 546(29)\n"
     ]
    }
   ],
   "source": [
    "np.random.seed(1234)\n",
    "time = init_period - 1\n",
    "horizon = 120\n",
    "n_dates = 30\n",
    "\n",
    "\n",
    "performances = np.empty((n_dates,(horizon//window) + 1))\n",
    "start_day = np.random.choice(range(time,(max_time-horizon)+1), size=n_dates, replace=False)\n",
    "\n",
    "for date_id,date in enumerate(start_day):\n",
    "    \n",
    "    print('Test with date ' + str(date) + '(' + str(date_id) + ')')\n",
    "    time = date\n",
    "    portfolio_performance = []\n",
    "    while time <= date + horizon:\n",
    "    \n",
    "        #stock_returns = np.empty((len(tickers),n_simuls))\n",
    "        #for i in range(n_simuls):\n",
    "         #   market_simulation = Market.simulate_market(window)\n",
    "          #  for idx,x in enumerate(tickers):\n",
    "           #     stock_returns[idx][i] = (Stocks[x].simulate_stock_price(market_simulation, window) - Stocks[x].state)/Stocks[x].state\n",
    "        #opt_portfolio = optimal_portfolio4(np.mean(stock_returns,axis=1), estimate_cov_matrix(stock_returns,init_period,time-init_period+1))\n",
    "        #portfolio_performance.append(evaluate_portfolio(opt_portfolio,time, time+window))\n",
    "        portfolio_performance.append((Market.value[time+window] - Market.value[time])/Market.value[time])\n",
    "    \n",
    "        time += window\n",
    "    performances[date_id,:] = np.array(portfolio_performance)\n"
   ]
  },
  {
   "cell_type": "markdown",
   "metadata": {},
   "source": [
    "StockMC results:"
   ]
  },
  {
   "cell_type": "code",
   "execution_count": 52,
   "metadata": {},
   "outputs": [
    {
     "name": "stdout",
     "output_type": "stream",
     "text": [
      "mean: 0.010226748977442269\n",
      "std: 0.05621214574178659\n",
      "min: -0.19236887709510547\n",
      "max: 0.18261834658353657\n"
     ]
    }
   ],
   "source": [
    "print('mean: ' + str(np.mean(performances)))\n",
    "print('std: ' + str(np.std(performances)))\n",
    "print('min: ' + str(np.min(performances)))\n",
    "print('max: ' + str(np.max(performances)))"
   ]
  },
  {
   "cell_type": "markdown",
   "metadata": {},
   "source": [
    "StockMC2 results:"
   ]
  },
  {
   "cell_type": "code",
   "execution_count": 11,
   "metadata": {},
   "outputs": [
    {
     "name": "stdout",
     "output_type": "stream",
     "text": [
      "mean: 0.006692951934384806\n",
      "std: 0.09676149281435417\n",
      "min: -0.4221916067161989\n",
      "max: 0.3298576058914659\n"
     ]
    }
   ],
   "source": [
    "print('mean: ' + str(np.mean(performances)))\n",
    "print('std: ' + str(np.std(performances)))\n",
    "print('min: ' + str(np.min(performances)))\n",
    "print('max: ' + str(np.max(performances)))"
   ]
  },
  {
   "cell_type": "markdown",
   "metadata": {},
   "source": [
    "Naive results:"
   ]
  },
  {
   "cell_type": "code",
   "execution_count": 14,
   "metadata": {},
   "outputs": [
    {
     "name": "stdout",
     "output_type": "stream",
     "text": [
      "mean: 0.00791628047430005\n",
      "std: 0.03261244326301201\n",
      "min: -0.15625040785728558\n",
      "max: 0.16012817884434646\n"
     ]
    }
   ],
   "source": [
    "print('mean: ' + str(np.mean(performances)))\n",
    "print('std: ' + str(np.std(performances)))\n",
    "print('min: ' + str(np.min(performances)))\n",
    "print('max: ' + str(np.max(performances)))"
   ]
  },
  {
   "cell_type": "markdown",
   "metadata": {},
   "source": [
    "## Trajectories prediction experiment"
   ]
  },
  {
   "cell_type": "markdown",
   "metadata": {},
   "source": [
    "### 1.Find best window/delta_type configuration"
   ]
  },
  {
   "cell_type": "code",
   "execution_count": 33,
   "metadata": {},
   "outputs": [],
   "source": [
    "np.random.seed(1234)\n",
    "time = init_period - 1\n",
    "\n",
    "\n",
    "#Sample three stocks\n",
    "stock_sample = np.random.choice(tickers, size=100, replace=False)\n",
    "\n",
    "performances = np.empty((3,3))\n",
    "for delta_type in [0,1,2]:\n",
    "    for window_id,window in enumerate([7,15,30]):\n",
    "        \n",
    "        #Sample three test starting times\n",
    "        start_day = np.random.choice(range(time,(max_time-window)+1), size=20, replace=False)\n",
    "        #Simulated trajectories for each title\n",
    "        trajectories = np.empty((len(start_day),len(stock_sample),n_simuls, window))\n",
    "        for date_id,date in enumerate(start_day):\n",
    "            #Set sampled stocks to the initial date state\n",
    "            market_movement = Market.update_params(init_period, date-init_period+1)\n",
    "            for stock in stock_sample:\n",
    "                Stocks[stock].update_params(market_movement, init_period, date-init_period+1, delta_type = delta_type)\n",
    "            for i in range(n_simuls):\n",
    "                market_simul = Market.simulate_market(window)\n",
    "                for stock_id,stock in enumerate(stock_sample):\n",
    "                    trajectories[date_id,stock_id,i,:] = Stocks[stock].simulate_stock_trajectory(market_simul,window)\n",
    "                    \n",
    "        real_trajectories = np.empty((len(start_day),len(stock_sample),window))\n",
    "        for date_id,date in enumerate(start_day):\n",
    "            for stock_id,stock in enumerate(stock_sample):\n",
    "                real_trajectories[date_id,stock_id,:] = Stocks[stock].value[date+1:date+window+1]\n",
    "\n",
    "        mean_trajectories = np.mean(trajectories, axis=2)\n",
    "\n",
    "        mse = np.empty((len(start_day), len(stock_sample)))\n",
    "        for date_id,date in enumerate(start_day):\n",
    "            for stock_id,stock in enumerate(stock_sample):\n",
    "                mse[date_id,stock_id] = np.mean((real_trajectories[date_id,stock_id]-mean_trajectories[date_id,stock_id])**2)\n",
    "                \n",
    "        performances[delta_type, window_id] = np.mean(mse)"
   ]
  },
  {
   "cell_type": "code",
   "execution_count": 35,
   "metadata": {},
   "outputs": [
    {
     "data": {
      "text/plain": [
       "array([[ 3.82708594, 11.48241009, 21.13100607],\n",
       "       [ 5.42447867, 11.87423964, 19.0274967 ],\n",
       "       [ 4.87589338,  6.67033768, 18.49444707]])"
      ]
     },
     "execution_count": 35,
     "metadata": {},
     "output_type": "execute_result"
    }
   ],
   "source": [
    "performances #the configuration window 1 week and delta_type mean shows the lower mse"
   ]
  },
  {
   "cell_type": "markdown",
   "metadata": {},
   "source": [
    "### 2.Experiment with above configuration"
   ]
  },
  {
   "cell_type": "code",
   "execution_count": 29,
   "metadata": {},
   "outputs": [],
   "source": [
    "np.random.seed(1234)\n",
    "time = init_period - 1\n",
    "\n",
    "delta_type = 0\n",
    "window = 7\n",
    "\n",
    "#Sample three test starting times\n",
    "start_day = np.random.choice(range(time,(max_time-window)+1), size=20, replace=False)\n",
    "#Sample three stocks\n",
    "stock_sample = np.random.choice(tickers, size=200, replace=False)\n",
    "\n",
    "#Simulated trajectories for each title\n",
    "trajectories = np.empty((len(start_day),len(stock_sample),n_simuls, window))\n",
    "for date_id,date in enumerate(start_day):\n",
    "    #Set sampled stocks to the initial date state\n",
    "    market_movement = Market.update_params(init_period, date-init_period+1)\n",
    "    for stock in stock_sample:\n",
    "        Stocks[stock].update_params(market_movement, init_period, date-init_period+1, delta_type = delta_type)\n",
    "    for i in range(n_simuls):\n",
    "        market_simul = Market.simulate_market(window)\n",
    "        for stock_id,stock in enumerate(stock_sample):\n",
    "            trajectories[date_id,stock_id,i,:] = Stocks[stock].simulate_stock_trajectory(market_simul,window)\n",
    "                    \n",
    "real_trajectories = np.empty((len(start_day),len(stock_sample),window))\n",
    "for date_id,date in enumerate(start_day):\n",
    "    for stock_id,stock in enumerate(stock_sample):\n",
    "        real_trajectories[date_id,stock_id,:] = Stocks[stock].value[date+1:date+window+1]\n",
    "\n",
    "mean_trajectories = np.mean(trajectories, axis=2)\n",
    "\n",
    "mse = np.empty((len(start_day), len(stock_sample)))\n",
    "for date_id,date in enumerate(start_day):\n",
    "    for stock_id,stock in enumerate(stock_sample):\n",
    "        mse[date_id,stock_id] = np.mean((real_trajectories[date_id,stock_id]-mean_trajectories[date_id,stock_id])**2)"
   ]
  },
  {
   "cell_type": "code",
   "execution_count": 39,
   "metadata": {},
   "outputs": [
    {
     "name": "stdout",
     "output_type": "stream",
     "text": [
      "8 93\n",
      "9 54\n"
     ]
    }
   ],
   "source": [
    "max_mse = np.argmax(mse)\n",
    "print(max_mse//mse.shape[1], max_mse%mse.shape[1])\n",
    "min_mse = np.argmin(mse)\n",
    "print(min_mse//mse.shape[1], min_mse%mse.shape[1])\n",
    "print_dates = [max_mse//mse.shape[1], min_mse//mse.shape[1]]\n",
    "print_stocks = [max_mse%mse.shape[1], min_mse%mse.shape[1]]"
   ]
  },
  {
   "cell_type": "code",
   "execution_count": 33,
   "metadata": {},
   "outputs": [
    {
     "data": {
      "text/plain": [
       "14.836872484117935"
      ]
     },
     "execution_count": 33,
     "metadata": {},
     "output_type": "execute_result"
    }
   ],
   "source": [
    "mse[14,193]"
   ]
  },
  {
   "cell_type": "markdown",
   "metadata": {},
   "source": [
    "Trajectories MSE summary:"
   ]
  },
  {
   "cell_type": "code",
   "execution_count": 30,
   "metadata": {},
   "outputs": [
    {
     "name": "stdout",
     "output_type": "stream",
     "text": [
      "mean: 6.031949328424759\n",
      "std: 28.35767560573672\n",
      "min: 0.0005573542146765153\n",
      "max: 803.9234334027985\n"
     ]
    }
   ],
   "source": [
    "print('mean: ' + str(np.mean(mse)))\n",
    "print('std: ' + str(np.std(mse)))\n",
    "print('min: ' + str(np.min(mse)))\n",
    "print('max: ' + str(np.max(mse)))"
   ]
  },
  {
   "cell_type": "code",
   "execution_count": 43,
   "metadata": {},
   "outputs": [
    {
     "ename": "KeyboardInterrupt",
     "evalue": "",
     "output_type": "error",
     "traceback": [
      "\u001b[0;31m---------------------------------------\u001b[0m",
      "\u001b[0;31mKeyboardInterrupt\u001b[0mTraceback (most recent call last)",
      "\u001b[0;32m<ipython-input-43-a059015aa10f>\u001b[0m in \u001b[0;36m<module>\u001b[0;34m()\u001b[0m\n\u001b[1;32m      9\u001b[0m         \u001b[0max\u001b[0m\u001b[0;34m.\u001b[0m\u001b[0mlegend\u001b[0m\u001b[0;34m(\u001b[0m\u001b[0;34m)\u001b[0m\u001b[0;34m\u001b[0m\u001b[0;34m\u001b[0m\u001b[0m\n\u001b[1;32m     10\u001b[0m         \u001b[0mfigname\u001b[0m \u001b[0;34m=\u001b[0m \u001b[0mpath\u001b[0m \u001b[0;34m+\u001b[0m \u001b[0;34m'day'\u001b[0m\u001b[0;34m+\u001b[0m \u001b[0mstr\u001b[0m\u001b[0;34m(\u001b[0m\u001b[0mdate_id\u001b[0m\u001b[0;34m)\u001b[0m \u001b[0;34m+\u001b[0m \u001b[0;34m'_stock'\u001b[0m \u001b[0;34m+\u001b[0m \u001b[0mstr\u001b[0m\u001b[0;34m(\u001b[0m\u001b[0mstock_id\u001b[0m\u001b[0;34m)\u001b[0m \u001b[0;34m+\u001b[0m \u001b[0;34m'.png'\u001b[0m\u001b[0;34m\u001b[0m\u001b[0;34m\u001b[0m\u001b[0m\n\u001b[0;32m---> 11\u001b[0;31m         \u001b[0mfig\u001b[0m\u001b[0;34m.\u001b[0m\u001b[0msavefig\u001b[0m\u001b[0;34m(\u001b[0m\u001b[0mfigname\u001b[0m\u001b[0;34m,\u001b[0m \u001b[0mbbox_inches\u001b[0m\u001b[0;34m=\u001b[0m\u001b[0;34m'tight'\u001b[0m\u001b[0;34m)\u001b[0m   \u001b[0;31m# save the figure to file\u001b[0m\u001b[0;34m\u001b[0m\u001b[0;34m\u001b[0m\u001b[0m\n\u001b[0m\u001b[1;32m     12\u001b[0m         \u001b[0mplt\u001b[0m\u001b[0;34m.\u001b[0m\u001b[0mclose\u001b[0m\u001b[0;34m(\u001b[0m\u001b[0mfig\u001b[0m\u001b[0;34m)\u001b[0m\u001b[0;34m\u001b[0m\u001b[0;34m\u001b[0m\u001b[0m\n",
      "\u001b[0;32m~/anaconda3/lib/python3.7/site-packages/matplotlib/figure.py\u001b[0m in \u001b[0;36msavefig\u001b[0;34m(self, fname, **kwargs)\u001b[0m\n\u001b[1;32m   2060\u001b[0m             \u001b[0mself\u001b[0m\u001b[0;34m.\u001b[0m\u001b[0mset_frameon\u001b[0m\u001b[0;34m(\u001b[0m\u001b[0mframeon\u001b[0m\u001b[0;34m)\u001b[0m\u001b[0;34m\u001b[0m\u001b[0;34m\u001b[0m\u001b[0m\n\u001b[1;32m   2061\u001b[0m \u001b[0;34m\u001b[0m\u001b[0m\n\u001b[0;32m-> 2062\u001b[0;31m         \u001b[0mself\u001b[0m\u001b[0;34m.\u001b[0m\u001b[0mcanvas\u001b[0m\u001b[0;34m.\u001b[0m\u001b[0mprint_figure\u001b[0m\u001b[0;34m(\u001b[0m\u001b[0mfname\u001b[0m\u001b[0;34m,\u001b[0m \u001b[0;34m**\u001b[0m\u001b[0mkwargs\u001b[0m\u001b[0;34m)\u001b[0m\u001b[0;34m\u001b[0m\u001b[0;34m\u001b[0m\u001b[0m\n\u001b[0m\u001b[1;32m   2063\u001b[0m \u001b[0;34m\u001b[0m\u001b[0m\n\u001b[1;32m   2064\u001b[0m         \u001b[0;32mif\u001b[0m \u001b[0mframeon\u001b[0m\u001b[0;34m:\u001b[0m\u001b[0;34m\u001b[0m\u001b[0;34m\u001b[0m\u001b[0m\n",
      "\u001b[0;32m~/anaconda3/lib/python3.7/site-packages/matplotlib/backend_bases.py\u001b[0m in \u001b[0;36mprint_figure\u001b[0;34m(self, filename, dpi, facecolor, edgecolor, orientation, format, **kwargs)\u001b[0m\n\u001b[1;32m   2212\u001b[0m                     **kwargs)\n\u001b[1;32m   2213\u001b[0m                 \u001b[0mrenderer\u001b[0m \u001b[0;34m=\u001b[0m \u001b[0mself\u001b[0m\u001b[0;34m.\u001b[0m\u001b[0mfigure\u001b[0m\u001b[0;34m.\u001b[0m\u001b[0m_cachedRenderer\u001b[0m\u001b[0;34m\u001b[0m\u001b[0;34m\u001b[0m\u001b[0m\n\u001b[0;32m-> 2214\u001b[0;31m                 \u001b[0mbbox_inches\u001b[0m \u001b[0;34m=\u001b[0m \u001b[0mself\u001b[0m\u001b[0;34m.\u001b[0m\u001b[0mfigure\u001b[0m\u001b[0;34m.\u001b[0m\u001b[0mget_tightbbox\u001b[0m\u001b[0;34m(\u001b[0m\u001b[0mrenderer\u001b[0m\u001b[0;34m)\u001b[0m\u001b[0;34m\u001b[0m\u001b[0;34m\u001b[0m\u001b[0m\n\u001b[0m\u001b[1;32m   2215\u001b[0m \u001b[0;34m\u001b[0m\u001b[0m\n\u001b[1;32m   2216\u001b[0m                 \u001b[0mbbox_artists\u001b[0m \u001b[0;34m=\u001b[0m \u001b[0mkwargs\u001b[0m\u001b[0;34m.\u001b[0m\u001b[0mpop\u001b[0m\u001b[0;34m(\u001b[0m\u001b[0;34m\"bbox_extra_artists\"\u001b[0m\u001b[0;34m,\u001b[0m \u001b[0;32mNone\u001b[0m\u001b[0;34m)\u001b[0m\u001b[0;34m\u001b[0m\u001b[0;34m\u001b[0m\u001b[0m\n",
      "\u001b[0;32m~/anaconda3/lib/python3.7/site-packages/matplotlib/figure.py\u001b[0m in \u001b[0;36mget_tightbbox\u001b[0;34m(self, renderer)\u001b[0m\n\u001b[1;32m   2222\u001b[0m         \u001b[0;32mfor\u001b[0m \u001b[0max\u001b[0m \u001b[0;32min\u001b[0m \u001b[0mself\u001b[0m\u001b[0;34m.\u001b[0m\u001b[0maxes\u001b[0m\u001b[0;34m:\u001b[0m\u001b[0;34m\u001b[0m\u001b[0;34m\u001b[0m\u001b[0m\n\u001b[1;32m   2223\u001b[0m             \u001b[0;32mif\u001b[0m \u001b[0max\u001b[0m\u001b[0;34m.\u001b[0m\u001b[0mget_visible\u001b[0m\u001b[0;34m(\u001b[0m\u001b[0;34m)\u001b[0m\u001b[0;34m:\u001b[0m\u001b[0;34m\u001b[0m\u001b[0;34m\u001b[0m\u001b[0m\n\u001b[0;32m-> 2224\u001b[0;31m                 \u001b[0mbb\u001b[0m\u001b[0;34m.\u001b[0m\u001b[0mappend\u001b[0m\u001b[0;34m(\u001b[0m\u001b[0max\u001b[0m\u001b[0;34m.\u001b[0m\u001b[0mget_tightbbox\u001b[0m\u001b[0;34m(\u001b[0m\u001b[0mrenderer\u001b[0m\u001b[0;34m)\u001b[0m\u001b[0;34m)\u001b[0m\u001b[0;34m\u001b[0m\u001b[0;34m\u001b[0m\u001b[0m\n\u001b[0m\u001b[1;32m   2225\u001b[0m \u001b[0;34m\u001b[0m\u001b[0m\n\u001b[1;32m   2226\u001b[0m         \u001b[0;32mif\u001b[0m \u001b[0mlen\u001b[0m\u001b[0;34m(\u001b[0m\u001b[0mbb\u001b[0m\u001b[0;34m)\u001b[0m \u001b[0;34m==\u001b[0m \u001b[0;36m0\u001b[0m\u001b[0;34m:\u001b[0m\u001b[0;34m\u001b[0m\u001b[0;34m\u001b[0m\u001b[0m\n",
      "\u001b[0;32m~/anaconda3/lib/python3.7/site-packages/matplotlib/axes/_base.py\u001b[0m in \u001b[0;36mget_tightbbox\u001b[0;34m(self, renderer, call_axes_locator)\u001b[0m\n\u001b[1;32m   4190\u001b[0m \u001b[0;34m\u001b[0m\u001b[0m\n\u001b[1;32m   4191\u001b[0m         \u001b[0;32mif\u001b[0m \u001b[0mself\u001b[0m\u001b[0;34m.\u001b[0m\u001b[0mtitle\u001b[0m\u001b[0;34m.\u001b[0m\u001b[0mget_visible\u001b[0m\u001b[0;34m(\u001b[0m\u001b[0;34m)\u001b[0m\u001b[0;34m:\u001b[0m\u001b[0;34m\u001b[0m\u001b[0;34m\u001b[0m\u001b[0m\n\u001b[0;32m-> 4192\u001b[0;31m             \u001b[0mbb\u001b[0m\u001b[0;34m.\u001b[0m\u001b[0mappend\u001b[0m\u001b[0;34m(\u001b[0m\u001b[0mself\u001b[0m\u001b[0;34m.\u001b[0m\u001b[0mtitle\u001b[0m\u001b[0;34m.\u001b[0m\u001b[0mget_window_extent\u001b[0m\u001b[0;34m(\u001b[0m\u001b[0mrenderer\u001b[0m\u001b[0;34m)\u001b[0m\u001b[0;34m)\u001b[0m\u001b[0;34m\u001b[0m\u001b[0;34m\u001b[0m\u001b[0m\n\u001b[0m\u001b[1;32m   4193\u001b[0m         \u001b[0;32mif\u001b[0m \u001b[0mself\u001b[0m\u001b[0;34m.\u001b[0m\u001b[0m_left_title\u001b[0m\u001b[0;34m.\u001b[0m\u001b[0mget_visible\u001b[0m\u001b[0;34m(\u001b[0m\u001b[0;34m)\u001b[0m\u001b[0;34m:\u001b[0m\u001b[0;34m\u001b[0m\u001b[0;34m\u001b[0m\u001b[0m\n\u001b[1;32m   4194\u001b[0m             \u001b[0mbb\u001b[0m\u001b[0;34m.\u001b[0m\u001b[0mappend\u001b[0m\u001b[0;34m(\u001b[0m\u001b[0mself\u001b[0m\u001b[0;34m.\u001b[0m\u001b[0m_left_title\u001b[0m\u001b[0;34m.\u001b[0m\u001b[0mget_window_extent\u001b[0m\u001b[0;34m(\u001b[0m\u001b[0mrenderer\u001b[0m\u001b[0;34m)\u001b[0m\u001b[0;34m)\u001b[0m\u001b[0;34m\u001b[0m\u001b[0;34m\u001b[0m\u001b[0m\n",
      "\u001b[0;32m~/anaconda3/lib/python3.7/site-packages/matplotlib/text.py\u001b[0m in \u001b[0;36mget_window_extent\u001b[0;34m(self, renderer, dpi)\u001b[0m\n\u001b[1;32m    913\u001b[0m         \u001b[0;32mif\u001b[0m \u001b[0mself\u001b[0m\u001b[0;34m.\u001b[0m\u001b[0mget_text\u001b[0m\u001b[0;34m(\u001b[0m\u001b[0;34m)\u001b[0m \u001b[0;34m==\u001b[0m \u001b[0;34m''\u001b[0m\u001b[0;34m:\u001b[0m\u001b[0;34m\u001b[0m\u001b[0;34m\u001b[0m\u001b[0m\n\u001b[1;32m    914\u001b[0m             \u001b[0mtx\u001b[0m\u001b[0;34m,\u001b[0m \u001b[0mty\u001b[0m \u001b[0;34m=\u001b[0m \u001b[0mself\u001b[0m\u001b[0;34m.\u001b[0m\u001b[0m_get_xy_display\u001b[0m\u001b[0;34m(\u001b[0m\u001b[0;34m)\u001b[0m\u001b[0;34m\u001b[0m\u001b[0;34m\u001b[0m\u001b[0m\n\u001b[0;32m--> 915\u001b[0;31m             \u001b[0;32mreturn\u001b[0m \u001b[0mBbox\u001b[0m\u001b[0;34m.\u001b[0m\u001b[0mfrom_bounds\u001b[0m\u001b[0;34m(\u001b[0m\u001b[0mtx\u001b[0m\u001b[0;34m,\u001b[0m \u001b[0mty\u001b[0m\u001b[0;34m,\u001b[0m \u001b[0;36m0\u001b[0m\u001b[0;34m,\u001b[0m \u001b[0;36m0\u001b[0m\u001b[0;34m)\u001b[0m\u001b[0;34m\u001b[0m\u001b[0;34m\u001b[0m\u001b[0m\n\u001b[0m\u001b[1;32m    916\u001b[0m \u001b[0;34m\u001b[0m\u001b[0m\n\u001b[1;32m    917\u001b[0m         \u001b[0;32mif\u001b[0m \u001b[0mrenderer\u001b[0m \u001b[0;32mis\u001b[0m \u001b[0;32mnot\u001b[0m \u001b[0;32mNone\u001b[0m\u001b[0;34m:\u001b[0m\u001b[0;34m\u001b[0m\u001b[0;34m\u001b[0m\u001b[0m\n",
      "\u001b[0;32m~/anaconda3/lib/python3.7/site-packages/matplotlib/transforms.py\u001b[0m in \u001b[0;36mfrom_bounds\u001b[0;34m(x0, y0, width, height)\u001b[0m\n\u001b[1;32m    829\u001b[0m         \u001b[0;34m*\u001b[0m\u001b[0mwidth\u001b[0m\u001b[0;34m*\u001b[0m \u001b[0;32mand\u001b[0m \u001b[0;34m*\u001b[0m\u001b[0mheight\u001b[0m\u001b[0;34m*\u001b[0m \u001b[0mmay\u001b[0m \u001b[0mbe\u001b[0m \u001b[0mnegative\u001b[0m\u001b[0;34m.\u001b[0m\u001b[0;34m\u001b[0m\u001b[0;34m\u001b[0m\u001b[0m\n\u001b[1;32m    830\u001b[0m         \"\"\"\n\u001b[0;32m--> 831\u001b[0;31m         \u001b[0;32mreturn\u001b[0m \u001b[0mBbox\u001b[0m\u001b[0;34m.\u001b[0m\u001b[0mfrom_extents\u001b[0m\u001b[0;34m(\u001b[0m\u001b[0mx0\u001b[0m\u001b[0;34m,\u001b[0m \u001b[0my0\u001b[0m\u001b[0;34m,\u001b[0m \u001b[0mx0\u001b[0m \u001b[0;34m+\u001b[0m \u001b[0mwidth\u001b[0m\u001b[0;34m,\u001b[0m \u001b[0my0\u001b[0m \u001b[0;34m+\u001b[0m \u001b[0mheight\u001b[0m\u001b[0;34m)\u001b[0m\u001b[0;34m\u001b[0m\u001b[0;34m\u001b[0m\u001b[0m\n\u001b[0m\u001b[1;32m    832\u001b[0m \u001b[0;34m\u001b[0m\u001b[0m\n\u001b[1;32m    833\u001b[0m     \u001b[0;34m@\u001b[0m\u001b[0mstaticmethod\u001b[0m\u001b[0;34m\u001b[0m\u001b[0;34m\u001b[0m\u001b[0m\n",
      "\u001b[0;31mKeyboardInterrupt\u001b[0m: "
     ]
    },
    {
     "data": {
      "image/png": "[encoded data removed]",
      "text/plain": [
       "<Figure size 432x288 with 1 Axes>"
      ]
     },
     "metadata": {},
     "output_type": "display_data"
    }
   ],
   "source": [
    "path = './images/'\n",
    "for date_id,date in enumerate(start_day):\n",
    "    for stock_id,stock in enumerate(stock_sample):\n",
    "        fig, ax = plt.subplots( nrows=1, ncols=1 )  # create figure & 1 axis\n",
    "        for i in range(n_simuls):\n",
    "            ax.plot(trajectories[date_id,stock_id,i,:], color=\"LightGrey\")\n",
    "        ax.plot(real_trajectories[date_id,stock_id,:], color=\"Red\", label=\"Real Trajectory\")\n",
    "        ax.plot(mean_trajectories[date_id,stock_id,:], color = \"Blue\", label=\"Mean Trajectory\")\n",
    "        ax.legend()\n",
    "        figname = path + 'day'+ str(date_id) + '_stock' + str(stock_id) + '.png'\n",
    "        fig.savefig(figname, bbox_inches='tight')   # save the figure to file\n",
    "        plt.close(fig)\n",
    "\n"
   ]
  },
  {
   "cell_type": "code",
   "execution_count": null,
   "metadata": {},
   "outputs": [],
   "source": []
  }
 ],
 "metadata": {
  "kernelspec": {
   "display_name": "Python 3",
   "language": "python",
   "name": "python3"
  },
  "language_info": {
   "codemirror_mode": {
    "name": "ipython",
    "version": 3
   },
   "file_extension": ".py",
   "mimetype": "text/x-python",
   "name": "python",
   "nbconvert_exporter": "python",
   "pygments_lexer": "ipython3",
   "version": "3.7.2"
  }
 },
 "nbformat": 4,
 "nbformat_minor": 2
}
