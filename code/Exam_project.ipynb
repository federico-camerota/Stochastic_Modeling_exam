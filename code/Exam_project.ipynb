{
 "cells": [
  {
   "cell_type": "code",
   "execution_count": 1,
   "metadata": {},
   "outputs": [],
   "source": [
    "import csv\n",
    "import numpy as np\n",
    "import random as rnd\n",
    "import copy as cp"
   ]
  },
  {
   "cell_type": "markdown",
   "metadata": {},
   "source": [
    "# Market chain class"
   ]
  },
  {
   "cell_type": "code",
   "execution_count": 2,
   "metadata": {},
   "outputs": [],
   "source": [
    "class Market_MC:\n",
    "    def __init__(self, filepath, gap = 0, end = float(\"inf\"), col = 1):\n",
    "        self.filepath = filepath\n",
    "        values = []\n",
    "        #Read the market daily prices form given file\n",
    "        with open(filepath) as csvData:\n",
    "            csvReader = csv.reader(csvData)\n",
    "            i = 0\n",
    "            for row in csvReader:\n",
    "                if i >= gap and i <= end:\n",
    "                    values.append(float(row[col]))\n",
    "                i += 1\n",
    "        \n",
    "        self.value = np.array(values)\n",
    "        \n",
    "    def update_params(self, period, start = 0):\n",
    "    \n",
    "        movement = self.value[start + 1:(start + period-1)] >= self.value[start :(start + period-2)]\n",
    "        #Compute transition probabilities\n",
    "        b_t_b = np.sum(~(movement[1:] | movement[0:-1]))/(period - 2)\n",
    "        g_t_g = np.sum((movement[1:] & movement[0:-1]))/(period - 2)\n",
    "        self.probs = np.array([b_t_b,1-b_t_b,1-g_t_g,g_t_g]).reshape((2,2))\n",
    "        #Update market state\n",
    "        self.state = 1 if movement[-1] else 0\n",
    "        \n",
    "        return movement\n",
    "        \n",
    "    def simulate_market(self, length):\n",
    "        #Sample lenght random numbers in (0,1)\n",
    "        rnd_vals = [rnd.uniform(0,1) for i in range(length)]\n",
    "        new_state = 1\n",
    "        if rnd_vals[0] < self.probs[self.state][0]:\n",
    "            new_state = 0\n",
    "        market_states = [new_state]\n",
    "    \n",
    "        for idx, x in enumerate(rnd_vals[1:]):\n",
    "            #update market state\n",
    "            new_state = 1\n",
    "            if x < self.probs[market_states[idx]][0]:\n",
    "                new_state = 0\n",
    "            market_states.append(new_state)\n",
    "        \n",
    "        return np.array(market_states)\n",
    "\n",
    "    def set_state(self, state):\n",
    "        self.state = state"
   ]
  },
  {
   "cell_type": "markdown",
   "metadata": {},
   "source": [
    "# Stock chain class"
   ]
  },
  {
   "cell_type": "code",
   "execution_count": 200,
   "metadata": {},
   "outputs": [],
   "source": [
    "class Stock_MC:\n",
    "    \n",
    "    def __init__(self, filepath, gap = 0, end = float(\"inf\"), col = 1):\n",
    "        self.filepath = filepath\n",
    "        values = []\n",
    "        #Read the stock daily prices form given file\n",
    "        with open(filepath) as csvData:\n",
    "            csvReader = csv.reader(csvData)\n",
    "            i = 0\n",
    "            for row in csvReader:\n",
    "                if i >= gap and i <= end:\n",
    "                    values.append(float(row[col]))\n",
    "                i += 1\n",
    "        \n",
    "        self.value = np.array(values)\n",
    "        \n",
    "    def update_params(self, market_movement, period, start = 0, delta_type = 0):\n",
    "    \n",
    "        \n",
    "        ups = self.value[start + 1:(start + period-1)] >= self.value[start :(start + period-2)]\n",
    "        #Compute transition probabilities\n",
    "        \n",
    "        #Probabilities for bad market \n",
    "        up_b = np.sum(ups[1:] & ~market_movement[1:])/np.sum(~market_movement[1:])\n",
    "        #self.probs[0][1] = np.sum(ups[1:] & ~market_movement[1:])/(period - 1)\n",
    "        #self.probs[0][0] = 1 - self.probs[0][1]\n",
    "        #Probabilities for good market\n",
    "        up_g = np.sum(ups[1:] & market_movement[1:])/np.sum(market_movement[1:])\n",
    "        #self.probs[1][1] = np.sum(ups[1:] & market_movement[0:-1])/(period - 1)\n",
    "        #self.probs[1][0] = 1 - self.probs[1][1]\n",
    "        self.probs = np.array([1-up_b, up_b, 1-up_g, up_g]).reshape((2,2))\n",
    "        #Update stock state\n",
    "        self.state = self.value[start + period - 1]\n",
    "        #Update stock delta parameter\n",
    "        if delta_type == 0:\n",
    "                #Use mean variation as delta\n",
    "                self.delta = np.mean(np.absolute(self.value[start + 1:(start + period-1)] - self.value[start :(start + period-2)]))\n",
    "        elif delta_type == 1:\n",
    "                #Use median variation as delta\n",
    "                self.delta = np.median(np.absolute(self.value[start + 1:(start + period-1)] - self.value[start :(start + period-2)]))\n",
    "        elif delta_type == 2:\n",
    "                #Use minimum variation as delta\n",
    "                self.delta = np.quantile(np.absolute(self.value[start + 1:(start + period-1)] - self.value[start :(start + period-2)]),0.1)\n",
    "        \n",
    "        \n",
    "    def simulate_stock_trajectory(self, market_state, length):\n",
    "        #Sample lenght random numbers in (0,1)\n",
    "        rnd_vals = [rnd.uniform(0,1) for i in range(length)]\n",
    "        stock_states = [(self.state - self.delta) if (rnd_vals[0] <= self.probs[market_state[0]][0]) else (self.state + self.delta)]\n",
    "            \n",
    "        for idx, x in enumerate(rnd_vals[1:]):\n",
    "            #update stock state\n",
    "            if x <= self.probs[market_state[idx+1]][0]:\n",
    "                stock_states.append(stock_states[idx] - self.delta)\n",
    "            else:                           \n",
    "                stock_states.append(stock_states[idx] + self.delta)\n",
    "\n",
    "            \n",
    "        return np.array(stock_states)\n",
    "    \n",
    "    def simulate_stock_price(self, market_state, length):\n",
    "        #Sample lenght random numbers in (0,1)\n",
    "        rnd_vals = [rnd.uniform(0,1) for i in range(length)]\n",
    "        end_value = cp.copy(self.state)\n",
    "        for idx, x in enumerate(rnd_vals):\n",
    "            #update stock state\n",
    "            if x <= self.probs[market_state[idx]][0]:\n",
    "                end_value -= self.delta\n",
    "            else:\n",
    "                end_value += self.delta\n",
    "                \n",
    "        return end_value\n",
    "        \n",
    "    def set_state(self, state):\n",
    "        self.state = state"
   ]
  },
  {
   "cell_type": "code",
   "execution_count": 151,
   "metadata": {},
   "outputs": [],
   "source": [
    "market = Market_MC('./data/market_prices.csv')\n",
    "move = market.update_params(500)\n",
    "market_simul = market.simulate_market(30)"
   ]
  },
  {
   "cell_type": "code",
   "execution_count": 263,
   "metadata": {},
   "outputs": [],
   "source": [
    "stock1 = Stock_MC('./data/AAPL_prices.csv')\n",
    "stock1.update_params(move, 500,delta_type=0)"
   ]
  },
  {
   "cell_type": "code",
   "execution_count": 264,
   "metadata": {},
   "outputs": [
    {
     "name": "stdout",
     "output_type": "stream",
     "text": [
      "probs\n",
      "[[0.58490566 0.41509434]\n",
      " [0.39298246 0.60701754]]\n",
      "delta\n",
      "0.8891967871485945\n",
      "state\n",
      "118.65\n"
     ]
    },
    {
     "data": {
      "text/plain": [
       "119.71347935742999"
      ]
     },
     "execution_count": 264,
     "metadata": {},
     "output_type": "execute_result"
    }
   ],
   "source": [
    "print(\"probs\")\n",
    "print(stock1.probs)\n",
    "print(\"delta\")\n",
    "print(stock1.delta)\n",
    "print(\"state\")\n",
    "print(stock1.state)\n",
    "val = 0\n",
    "for x in range(1000):\n",
    "    val += stock1.simulate_stock_price(market_simul, 30)\n",
    "val/1000"
   ]
  }
 ],
 "metadata": {
  "kernelspec": {
   "display_name": "Python 3",
   "language": "python",
   "name": "python3"
  },
  "language_info": {
   "codemirror_mode": {
    "name": "ipython",
    "version": 3
   },
   "file_extension": ".py",
   "mimetype": "text/x-python",
   "name": "python",
   "nbconvert_exporter": "python",
   "pygments_lexer": "ipython3",
   "version": "3.7.2"
  }
 },
 "nbformat": 4,
 "nbformat_minor": 2
}
